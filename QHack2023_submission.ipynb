{
  "nbformat": 4,
  "nbformat_minor": 0,
  "metadata": {
    "colab": {
      "provenance": []
    },
    "kernelspec": {
      "name": "python3",
      "display_name": "Python 3"
    },
    "language_info": {
      "name": "python"
    }
  },
  "cells": [
    {
      "cell_type": "markdown",
      "source": [
        "```python\n",
        "# TODO: to be changed filename to: QHack2023_submission.ipynb\n",
        "\n",
        "# TODO: to be added to repo png files with plotted graphs \n",
        "\n",
        "# TODO: to be added to repo csv file with calculated values for different bond lenghts\n",
        "```\n",
        "\n",
        "**`Please check especially parts marked TODO and REVIEW`**"
      ],
      "metadata": {
        "id": "Ix0eVkcnhxqw"
      }
    },
    {
      "cell_type": "markdown",
      "source": [
        "# QHack2023 - Quantum Chemistry Challenge\n",
        "\n",
        "**Project:** *Quantum algorithm for computing ground state energy of $BeH_{2}$*\n",
        "\n",
        "**Description:** TODO"
      ],
      "metadata": {
        "id": "ZusIILxkPvq-"
      }
    },
    {
      "cell_type": "code",
      "source": [
        "# Install necessary libraries in Colab\n",
        "!pip install qiskit qiskit-nature[pyscf] pylatexenc -U --quiet\n",
        "\n",
        "# REVIEW: we should check what is needed to load in qBraid"
      ],
      "metadata": {
        "id": "hRttFBNWbxXT",
        "colab": {
          "base_uri": "https://localhost:8080/"
        },
        "outputId": "48d40d68-b13f-4e5e-f5e3-0ba16ec4f8f8"
      },
      "execution_count": null,
      "outputs": [
        {
          "output_type": "stream",
          "name": "stdout",
          "text": [
            "  Preparing metadata (setup.py) ... \u001b[?25l\u001b[?25hdone\n",
            "\u001b[2K     \u001b[90m━━━━━━━━━━━━━━━━━━━━━━━━━━━━━━━━━━━━━━━━\u001b[0m \u001b[32m3.8/3.8 MB\u001b[0m \u001b[31m28.8 MB/s\u001b[0m eta \u001b[36m0:00:00\u001b[0m\n",
            "\u001b[2K     \u001b[90m━━━━━━━━━━━━━━━━━━━━━━━━━━━━━━━━━━━━━━━\u001b[0m \u001b[32m162.6/162.6 KB\u001b[0m \u001b[31m9.5 MB/s\u001b[0m eta \u001b[36m0:00:00\u001b[0m\n",
            "\u001b[?25h  Preparing metadata (setup.py) ... \u001b[?25l\u001b[?25hdone\n",
            "\u001b[2K     \u001b[90m━━━━━━━━━━━━━━━━━━━━━━━━━━━━━━━━━━━━━━━━\u001b[0m \u001b[32m5.1/5.1 MB\u001b[0m \u001b[31m78.0 MB/s\u001b[0m eta \u001b[36m0:00:00\u001b[0m\n",
            "\u001b[2K     \u001b[90m━━━━━━━━━━━━━━━━━━━━━━━━━━━━━━━━━━━━━━━━\u001b[0m \u001b[32m12.8/12.8 MB\u001b[0m \u001b[31m33.2 MB/s\u001b[0m eta \u001b[36m0:00:00\u001b[0m\n",
            "\u001b[2K     \u001b[90m━━━━━━━━━━━━━━━━━━━━━━━━━━━━━━━━━━━━━━\u001b[0m \u001b[32m241.3/241.3 KB\u001b[0m \u001b[31m17.0 MB/s\u001b[0m eta \u001b[36m0:00:00\u001b[0m\n",
            "\u001b[2K     \u001b[90m━━━━━━━━━━━━━━━━━━━━━━━━━━━━━━━━━━━━━━━━\u001b[0m \u001b[32m55.9/55.9 KB\u001b[0m \u001b[31m4.8 MB/s\u001b[0m eta \u001b[36m0:00:00\u001b[0m\n",
            "\u001b[2K     \u001b[90m━━━━━━━━━━━━━━━━━━━━━━━━━━━━━━━━━━━━━━\u001b[0m \u001b[32m107.0/107.0 KB\u001b[0m \u001b[31m11.7 MB/s\u001b[0m eta \u001b[36m0:00:00\u001b[0m\n",
            "\u001b[2K     \u001b[90m━━━━━━━━━━━━━━━━━━━━━━━━━━━━━━━━━━━━━━━━\u001b[0m \u001b[32m62.8/62.8 KB\u001b[0m \u001b[31m6.8 MB/s\u001b[0m eta \u001b[36m0:00:00\u001b[0m\n",
            "\u001b[2K     \u001b[90m━━━━━━━━━━━━━━━━━━━━━━━━━━━━━━━━━━━━━━\u001b[0m \u001b[32m140.6/140.6 KB\u001b[0m \u001b[31m15.8 MB/s\u001b[0m eta \u001b[36m0:00:00\u001b[0m\n",
            "\u001b[2K     \u001b[90m━━━━━━━━━━━━━━━━━━━━━━━━━━━━━━━━━━━━━━━━\u001b[0m \u001b[32m49.6/49.6 KB\u001b[0m \u001b[31m5.7 MB/s\u001b[0m eta \u001b[36m0:00:00\u001b[0m\n",
            "\u001b[2K     \u001b[90m━━━━━━━━━━━━━━━━━━━━━━━━━━━━━━━━━━━━━━━━\u001b[0m \u001b[32m1.9/1.9 MB\u001b[0m \u001b[31m74.2 MB/s\u001b[0m eta \u001b[36m0:00:00\u001b[0m\n",
            "\u001b[2K     \u001b[90m━━━━━━━━━━━━━━━━━━━━━━━━━━━━━━━━━━━━━━━━\u001b[0m \u001b[32m49.6/49.6 KB\u001b[0m \u001b[31m3.9 MB/s\u001b[0m eta \u001b[36m0:00:00\u001b[0m\n",
            "\u001b[2K     \u001b[90m━━━━━━━━━━━━━━━━━━━━━━━━━━━━━━━━━━━━━━━━\u001b[0m \u001b[32m37.5/37.5 MB\u001b[0m \u001b[31m13.4 MB/s\u001b[0m eta \u001b[36m0:00:00\u001b[0m\n",
            "\u001b[2K     \u001b[90m━━━━━━━━━━━━━━━━━━━━━━━━━━━━━━━━━━━━━━━━\u001b[0m \u001b[32m38.2/38.2 MB\u001b[0m \u001b[31m11.5 MB/s\u001b[0m eta \u001b[36m0:00:00\u001b[0m\n",
            "\u001b[2K     \u001b[90m━━━━━━━━━━━━━━━━━━━━━━━━━━━━━━━━━━━━━━━━\u001b[0m \u001b[32m4.2/4.2 MB\u001b[0m \u001b[31m86.0 MB/s\u001b[0m eta \u001b[36m0:00:00\u001b[0m\n",
            "\u001b[2K     \u001b[90m━━━━━━━━━━━━━━━━━━━━━━━━━━━━━━━━━━━━━━\u001b[0m \u001b[32m112.7/112.7 KB\u001b[0m \u001b[31m11.7 MB/s\u001b[0m eta \u001b[36m0:00:00\u001b[0m\n",
            "\u001b[?25h  Building wheel for qiskit (setup.py) ... \u001b[?25l\u001b[?25hdone\n",
            "  Building wheel for pylatexenc (setup.py) ... \u001b[?25l\u001b[?25hdone\n"
          ]
        }
      ]
    },
    {
      "cell_type": "code",
      "execution_count": null,
      "metadata": {
        "id": "1DYp3cLPZ48p"
      },
      "outputs": [],
      "source": [
        "# Import necessary libraries and packages\n",
        "import math\n",
        "import matplotlib.pyplot as plt\n",
        "plt.rcParams['figure.facecolor'] = 'white' # set white background\n",
        "plt.rcParams.update({\"font.size\": 16})  # enlarge matplotlib fonts\n",
        "\n",
        "import numpy as np\n",
        "from IPython.display import clear_output\n",
        "\n",
        "import warnings\n",
        "warnings.filterwarnings('ignore')\n",
        "\n",
        "from qiskit import Aer, IBMQ, QuantumCircuit\n",
        "# REVIEW: to be checked if BackendEstimator needs to be imported just before estimator initialization, as for AerEstimator\n",
        "from qiskit.primitives import BackendEstimator\n",
        "\n",
        "# REVIEW: Not present in the code, to be removed\n",
        "from qiskit.providers.aer import StatevectorSimulator\n",
        "\n",
        "# REVIEW: QuantumInstance not used in code, to be removed\n",
        "# shoudl algorithm_globals be used before running construct problem? algorithm_globals.random_seed = 1024\n",
        "from qiskit.utils import QuantumInstance, algorithm_globals\n",
        "\n",
        "# REVIEW: do we need this? If so, add comment\n",
        "from qiskit.tools.jupyter import *\n",
        "from qiskit.visualization import *\n",
        "\n",
        "# Import Qiskit libraries for VQE\n",
        "from qiskit.algorithms import MinimumEigensolverResult, VQE\n",
        "\n",
        "# REVIEW: We should import only the necessary, desc to be added in comment\n",
        "from qiskit.algorithms.optimizers import SLSQP, SPSA, L_BFGS_B, GradientDescent\n",
        "\n",
        "# REVIEW: Not needed, because we are creating custom ansatz\n",
        "from qiskit.circuit.library import TwoLocal, EfficientSU2\n",
        "\n",
        "# Import Qiskit Nature libraries\n",
        "from qiskit_nature.algorithms import GroundStateEigensolver, VQEUCCFactory\n",
        "from qiskit_nature.algorithms.ground_state_solvers.minimum_eigensolver_factories import NumPyMinimumEigensolverFactory\n",
        "from qiskit_nature.circuit.library import UCC, UCCSD\n",
        "from qiskit_nature.drivers import Molecule\n",
        "from qiskit_nature.drivers.second_quantization import ElectronicStructureDriverType, ElectronicStructureMoleculeDriver\n",
        "from qiskit_nature.converters.second_quantization import QubitConverter\n",
        "from qiskit_nature.mappers.second_quantization import BravyiKitaevMapper, JordanWignerMapper, ParityMapper\n",
        "from qiskit_nature.problems.second_quantization.electronic import ElectronicStructureProblem\n",
        "\n",
        "# REVIEW: ActiveSpaceTransformer - we will not use it, right?\n",
        "from qiskit_nature.transformers.second_quantization.electronic import ActiveSpaceTransformer, FreezeCoreTransformer\n",
        "\n",
        "# Prototype-zne\n",
        "# REVIEW: Is it needed for error mitigation? If so, should be in the beginning of notebook\n",
        "#!pip install prototype-zne --quiet\n",
        "\n",
        "# REVIEV: what is it for? comment needed or remove\n",
        "from qiskit_nature.settings import settings\n",
        "settings.dict_aux_operators = True"
      ]
    },
    {
      "cell_type": "markdown",
      "source": [
        "## $BeH_{2}$ molecule definition\n",
        "\n",
        "Bond length is a distance between each adjacent atom that we will define in [Angstrom](https://en.wikipedia.org/wiki/Angstrom) metric units. The bond length is an important factor in determining the strength of the bond between the atoms. The shorter the bond length, the stronger it is."
      ],
      "metadata": {
        "id": "bUjbWqU_bcUT"
      }
    },
    {
      "cell_type": "code",
      "source": [
        "# bond length in Angstrom\n",
        "distance = 1.7\n",
        "\n",
        "# Molecule geometry\n",
        "beh2 = [[\"Be\", [ 0.0,    0.0,    0.0]], \n",
        "        [\"H\", [ 0.0,    0.0,   -distance]],\n",
        "        [\"H\", [ 0.0,    0.0,   distance]]]"
      ],
      "metadata": {
        "id": "6dZ1j1nabbzv"
      },
      "execution_count": null,
      "outputs": []
    },
    {
      "cell_type": "markdown",
      "source": [
        "### Electronic structure problem\n",
        "\n",
        "After specifying atomic coordinates (geometry), we need to initiate chemical driver (problem) according to the molecule total spin (multiplicity) and charge information and with one of available basis sets. For our calculations we have chosen [STO-3G](https://en.wikipedia.org/wiki/STO-nG_basis_sets).\n",
        "\n",
        "After defining driver we can perform preliminary calculations and try to reduce the size of the problem to solve by using transformer that can reduce the problem to a configured active space."
      ],
      "metadata": {
        "id": "_WP4X2GoYexh"
      }
    },
    {
      "cell_type": "code",
      "source": [
        "def construct_problem(geometry, charge, multiplicity, basis=\"sto3g\", freeze_core=True, remove_orbitals=None, maxiter=50):\n",
        "    \"\"\"\n",
        "    Function for constructing molecule as Electronic structure problem with STO-3G basis set (default),\n",
        "    reducing number of required qubits for calculation by freezing lowest electron orbitals and removing inactive orbitals\n",
        "    and performing preliminary Quantum Chemistry calculation using PySCF    \n",
        "    \"\"\"\n",
        "    molecule = Molecule(geometry=geometry,charge=charge, multiplicity=multiplicity)\n",
        "    driver = ElectronicStructureMoleculeDriver(molecule, basis=basis, driver_type=ElectronicStructureDriverType.PYSCF)\n",
        "\n",
        "    # Run the preliminary quantum chemistry calculation\n",
        "    properties = driver.run()\n",
        "\n",
        "    # Freezing lowest electron orbitals (freeze_core=True) and removing inactive orbitals (integer list)\n",
        "    freezeCoreTransformer = FreezeCoreTransformer(freeze_core=freeze_core,remove_orbitals=remove_orbitals)\n",
        "\n",
        "    # Now you can get the reduced electronic structure problem\n",
        "    problem_reduced = ElectronicStructureProblem(driver, transformers=[freezeCoreTransformer])\n",
        "\n",
        "    # The second quantized Hamiltonian (fermionic operator) of the reduced problem for electronic energy\n",
        "    fermionic_ops = problem_reduced.second_q_ops().get('ElectronicEnergy')\n",
        "\n",
        "    return problem_reduced, fermionic_ops, properties"
      ],
      "metadata": {
        "id": "vBzlOoTuY06j"
      },
      "execution_count": null,
      "outputs": []
    },
    {
      "cell_type": "markdown",
      "source": [
        "#### Reduced problem\n",
        "\n",
        "Transformer `FreezeCoreTransformer`, that we have chosen, allow to specify orbitals to be removed by means of two variables:\n",
        "- `freeze_core` - enabled by default, the \"core\" orbitals will be determined automatically according to count_core_orbitals. These will then be made inactive and removed in the same fashion as in the [`ActiveSpaceTransformer`](https://qiskit.org/documentation/nature/locale/bn_BN/stubs/qiskit_nature.second_q.transformers.ActiveSpaceTransformer.html#activespacetransformer).\n",
        "- `remove_orbitals` - unoccupied spatial orbitals can be removed by setting a list of indices. \n",
        "\n",
        "**Note:** Before doing that, we have ensured that orbitals to be removed are unoccupied ones.\n",
        "\n",
        "Reducing problem results in qubit mapping that requires less qubits for algorithm definition.\n",
        "\n",
        "TODO: describe partially reduced problem, show results without freeze and orbitals removal"
      ],
      "metadata": {
        "id": "Nj4TOoNFnGTj"
      }
    },
    {
      "cell_type": "code",
      "source": [
        "# TODO: comment\n",
        "problem_reduced, fermionic_ops, properties = construct_problem(geometry=beh2, charge=0, multiplicity=1, basis=\"sto3g\", freeze=True, remove_orbitals=[3,4])\n",
        "\n",
        "# Number of qubits after initial reduction\n",
        "print(f\"Fermionic operator has been mapped to {fermionic_ops.register_length} qubits\")"
      ],
      "metadata": {
        "colab": {
          "base_uri": "https://localhost:8080/"
        },
        "id": "Zfn41Za-bPmo",
        "outputId": "f327aa2a-738f-4725-ba92-8ebec0c28d49"
      },
      "execution_count": null,
      "outputs": [
        {
          "output_type": "stream",
          "name": "stdout",
          "text": [
            "Fermionic operator has been mapped to 8 qubits\n"
          ]
        }
      ]
    },
    {
      "cell_type": "code",
      "source": [
        "# Electronic structure properties\n",
        "print(properties)"
      ],
      "metadata": {
        "colab": {
          "base_uri": "https://localhost:8080/"
        },
        "id": "Wa9LSZO-bWc1",
        "outputId": "9de960ca-d0b4-44d9-8250-86f71ade3ec7"
      },
      "execution_count": null,
      "outputs": [
        {
          "output_type": "stream",
          "name": "stdout",
          "text": [
            "ElectronicStructureDriverResult:\n",
            "\tDriverMetadata:\n",
            "\t\tProgram: PYSCF\n",
            "\t\tVersion: 2.1.1\n",
            "\t\tConfig:\n",
            "\t\t\tatom=Be 0.0 0.0 0.0;H 0.0 0.0 -1.7;H 0.0 0.0 1.7\n",
            "\t\t\tunit=Angstrom\n",
            "\t\t\tcharge=0\n",
            "\t\t\tspin=0\n",
            "\t\t\tbasis=sto3g\n",
            "\t\t\tmethod=rhf\n",
            "\t\t\tconv_tol=1e-09\n",
            "\t\t\tmax_cycle=50\n",
            "\t\t\tinit_guess=minao\n",
            "\t\t\tmax_memory=4000\n",
            "\t\t\t\n",
            "\tElectronicBasisTransform:\n",
            "\t\tInitial basis: atomic\n",
            "\t\tFinal basis: molecular\n",
            "\t\tAlpha coefficients:\n",
            "\t\t[0, 0] = 0.9919712737115951\n",
            "\t\t[0, 1] = -0.21012281570259556\n",
            "\t\t[0, 2] = 1.8743843210200245e-16\n",
            "\t\t[0, 3] = 1.0477711636981899e-18\n",
            "\t\t[0, 4] = -6.479192564948017e-19\n",
            "\t\t[0, 5] = -0.22831220797367535\n",
            "\t\t[0, 6] = -2.6072005335247126e-16\n",
            "\t\t[1, 0] = 0.030421514549834845\n",
            "\t\t[1, 1] = 0.6331724350282515\n",
            "\t\t[1, 2] = -5.088317389978074e-16\n",
            "\t\t[1, 3] = -1.808759683031049e-17\n",
            "\t\t[1, 4] = 1.8005260696145327e-17\n",
            "\t\t[1, 5] = 0.9804703496044787\n",
            "\t\t[1, 6] = 1.2461788081980166e-15\n",
            "\t\t[2, 0] = 2.9601198756957004e-34\n",
            "\t\t[2, 1] = 8.67664289006452e-33\n",
            "\t\t[2, 2] = -1.5627980518435264e-16\n",
            "\t\t[2, 3] = -0.4009918721448182\n",
            "\t\t[2, 4] = 0.9160816112518545\n",
            "\t\t[2, 5] = 6.508850282887389e-33\n",
            "\t\t[2, 6] = -7.870420638815568e-17\n",
            "\t\t[3, 0] = 4.325022899895195e-33\n",
            "\t\t[3, 1] = -2.4497699377705707e-31\n",
            "\t\t[3, 2] = 5.551115123125783e-17\n",
            "\t\t[3, 3] = 0.9160816112518544\n",
            "\t\t[3, 4] = 0.4009918721448182\n",
            "\t\t[3, 5] = -2.4500704861169567e-30\n",
            "\t\t[3, 6] = 3.3306690738754696e-16\n",
            "\t\t[4, 0] = -4.119968255444917e-18\n",
            "\t\t[4, 1] = 9.43689570931383e-16\n",
            "\t\t[4, 2] = 0.4935897265368643\n",
            "\t\t[4, 3] = -1.398775498518494e-16\n",
            "\t\t[4, 4] = 1.3070135610360217e-17\n",
            "\t\t[4, 5] = -1.7208456881689926e-15\n",
            "\t\t[4, 6] = 1.1265213277261314\n",
            "\t\t[5, 0] = -0.0037944140535813046\n",
            "\t\t[5, 1] = 0.393058535123527\n",
            "\t\t[5, 2] = -0.44616807565399574\n",
            "\t\t[5, 3] = -1.4387763527486267e-17\n",
            "\t\t[5, 4] = -1.278177369093765e-16\n",
            "\t\t[5, 5] = -0.6911117766633\n",
            "\t\t[5, 6] = 0.7503626415682363\n",
            "\t\t[6, 0] = -0.0037944140535813007\n",
            "\t\t[6, 1] = 0.39305853512352745\n",
            "\t\t[6, 2] = 0.44616807565399463\n",
            "\t\t[6, 3] = 1.289256416986776e-16\n",
            "\t\t[6, 4] = 2.7050356642850292e-18\n",
            "\t\t[6, 5] = -0.691111776663298\n",
            "\t\t[6, 6] = -0.7503626415682387\n",
            "\tParticleNumber:\n",
            "\t\t14 SOs\n",
            "\t\t3 alpha electrons\n",
            "\t\t\torbital occupation: [1. 1. 1. 0. 0. 0. 0.]\n",
            "\t\t3 beta electrons\n",
            "\t\t\torbital occupation: [1. 1. 1. 0. 0. 0. 0.]\n",
            "\tElectronicEnergy\n",
            "\t\t(AO) 1-Body Terms:\n",
            "\t\t\tAlpha\n",
            "\t\t\t<(7, 7) matrix with 23 non-zero entries>\n",
            "\t\t\t[0, 0] = -8.489678605455827\n",
            "\t\t\t[0, 1] = -2.0938233420653583\n",
            "\t\t\t[0, 5] = -0.2580668048049109\n",
            "\t\t\t[0, 6] = -0.2580668048049109\n",
            "\t\t\t[1, 0] = -2.0938233420653583\n",
            "\t\t\t... skipping 18 entries\n",
            "\t\t\tBeta\n",
            "\t\t\tSame values as the corresponding primary-spin data.\n",
            "\t\t(AO) 2-Body Terms:\n",
            "\t\t\tAlpha-Alpha\n",
            "\t\t\t<(7, 7, 7, 7) matrix with 829 non-zero entries>\n",
            "\t\t\t[0, 0, 0, 0] = 2.29883056063192\n",
            "\t\t\t[0, 0, 0, 1] = 0.3920362561947013\n",
            "\t\t\t[0, 0, 0, 5] = 0.046998849932624036\n",
            "\t\t\t[0, 0, 0, 6] = 0.046998849932624036\n",
            "\t\t\t[0, 0, 1, 0] = 0.3920362561947013\n",
            "\t\t\t... skipping 824 entries\n",
            "\t\t\tBeta-Alpha\n",
            "\t\t\tSame values as the corresponding primary-spin data.\n",
            "\t\t\tBeta-Beta\n",
            "\t\t\tSame values as the corresponding primary-spin data.\n",
            "\t\t\tAlpha-Beta\n",
            "\t\t\tSame values as the corresponding primary-spin data.\n",
            "\t\t(MO) 1-Body Terms:\n",
            "\t\t\tAlpha\n",
            "\t\t\t<(7, 7) matrix with 15 non-zero entries>\n",
            "\t\t\t[0, 0] = -8.478575792192272\n",
            "\t\t\t[0, 1] = 0.2040170910609919\n",
            "\t\t\t[0, 5] = 0.20383583152144014\n",
            "\t\t\t[1, 0] = 0.20401709106099225\n",
            "\t\t\t[1, 1] = -2.2165078033092143\n",
            "\t\t\t... skipping 10 entries\n",
            "\t\t\tBeta\n",
            "\t\t\tSame values as the corresponding primary-spin data.\n",
            "\t\t(MO) 2-Body Terms:\n",
            "\t\t\tAlpha-Alpha\n",
            "\t\t\t<(7, 7, 7, 7) matrix with 477 non-zero entries>\n",
            "\t\t\t[0, 0, 0, 0] = 2.272279655238999\n",
            "\t\t\t[0, 0, 0, 1] = -0.1842942719114215\n",
            "\t\t\t[0, 0, 0, 5] = -0.19279594407284162\n",
            "\t\t\t[0, 0, 1, 0] = -0.1842942719114214\n",
            "\t\t\t[0, 0, 1, 1] = 0.44578831408137465\n",
            "\t\t\t... skipping 472 entries\n",
            "\t\t\tBeta-Alpha\n",
            "\t\t\tSame values as the corresponding primary-spin data.\n",
            "\t\t\tBeta-Beta\n",
            "\t\t\tSame values as the corresponding primary-spin data.\n",
            "\t\t\tAlpha-Beta\n",
            "\t\t\tSame values as the corresponding primary-spin data.\n",
            "\tElectronicDipoleMoment:\n",
            "\t\tDipoleMomentX\n",
            "\t\t\t(AO) 1-Body Terms:\n",
            "\t\t\t\tAlpha\n",
            "\t\t\t\t<(7, 7) matrix with 8 non-zero entries>\n",
            "\t\t\t\t[0, 2] = 0.11541871089493776\n",
            "\t\t\t\t[1, 2] = 1.2544688158470105\n",
            "\t\t\t\t[2, 0] = 0.11541871089493776\n",
            "\t\t\t\t[2, 1] = 1.2544688158470105\n",
            "\t\t\t\t[2, 5] = 0.24780792477628183\n",
            "\t\t\t\t... skipping 3 entries\n",
            "\t\t\t\tBeta\n",
            "\t\t\t\tSame values as the corresponding primary-spin data.\n",
            "\t\t\t(MO) 1-Body Terms:\n",
            "\t\t\t\tAlpha\n",
            "\t\t\t\t<(7, 7) matrix with 12 non-zero entries>\n",
            "\t\t\t\t[0, 3] = -0.06045927494164035\n",
            "\t\t\t\t[0, 4] = 0.13812157764547967\n",
            "\t\t\t\t[1, 3] = -0.3868966108922552\n",
            "\t\t\t\t[1, 4] = 0.8838804357761569\n",
            "\t\t\t\t[3, 0] = -0.060459274941640356\n",
            "\t\t\t\t... skipping 7 entries\n",
            "\t\t\t\tBeta\n",
            "\t\t\t\tSame values as the corresponding primary-spin data.\n",
            "\t\tDipoleMomentY\n",
            "\t\t\t(AO) 1-Body Terms:\n",
            "\t\t\t\tAlpha\n",
            "\t\t\t\t<(7, 7) matrix with 8 non-zero entries>\n",
            "\t\t\t\t[0, 3] = 0.11541871089493776\n",
            "\t\t\t\t[1, 3] = 1.2544688158470105\n",
            "\t\t\t\t[3, 0] = 0.11541871089493776\n",
            "\t\t\t\t[3, 1] = 1.2544688158470105\n",
            "\t\t\t\t[3, 5] = 0.24780792477628183\n",
            "\t\t\t\t... skipping 3 entries\n",
            "\t\t\t\tBeta\n",
            "\t\t\t\tSame values as the corresponding primary-spin data.\n",
            "\t\t\t(MO) 1-Body Terms:\n",
            "\t\t\t\tAlpha\n",
            "\t\t\t\t<(7, 7) matrix with 12 non-zero entries>\n",
            "\t\t\t\t[0, 3] = 0.13812157764547967\n",
            "\t\t\t\t[0, 4] = 0.06045927494164035\n",
            "\t\t\t\t[1, 3] = 0.8838804357761568\n",
            "\t\t\t\t[1, 4] = 0.3868966108922552\n",
            "\t\t\t\t[3, 0] = 0.13812157764547967\n",
            "\t\t\t\t... skipping 7 entries\n",
            "\t\t\t\tBeta\n",
            "\t\t\t\tSame values as the corresponding primary-spin data.\n",
            "\t\tDipoleMomentZ\n",
            "\t\t\t(AO) 1-Body Terms:\n",
            "\t\t\t\tAlpha\n",
            "\t\t\t\t<(7, 7) matrix with 18 non-zero entries>\n",
            "\t\t\t\t[0, 4] = 0.11541871089493776\n",
            "\t\t\t\t[0, 5] = -0.009473164333953493\n",
            "\t\t\t\t[0, 6] = 0.009473164333953493\n",
            "\t\t\t\t[1, 4] = 1.2544688158470105\n",
            "\t\t\t\t[1, 5] = -0.6962678477949089\n",
            "\t\t\t\t... skipping 13 entries\n",
            "\t\t\t\tBeta\n",
            "\t\t\t\tSame values as the corresponding primary-spin data.\n",
            "\t\t\t(MO) 1-Body Terms:\n",
            "\t\t\t\tAlpha\n",
            "\t\t\t\t<(7, 7) matrix with 12 non-zero entries>\n",
            "\t\t\t\t[0, 2] = 0.08776994375579725\n",
            "\t\t\t\t[0, 6] = 0.13527027338864145\n",
            "\t\t\t\t[1, 2] = 2.3115856803922954\n",
            "\t\t\t\t[1, 6] = -0.7432755479445048\n",
            "\t\t\t\t[2, 0] = 0.08776994375579723\n",
            "\t\t\t\t... skipping 7 entries\n",
            "\t\t\t\tBeta\n",
            "\t\t\t\tSame values as the corresponding primary-spin data.\n",
            "\tAngularMomentum:\n",
            "\t\t14 SOs\n",
            "\tMagnetization:\n",
            "\t\t14 SOs\n",
            "Molecule:\n",
            "\tMultiplicity: 1\n",
            "\tCharge: 0\n",
            "\tUnit: Angstrom\n",
            "\tGeometry:\n",
            "\t\tBe\t[0.0, 0.0, 0.0]\n",
            "\t\tH\t[0.0, 0.0, -1.7]\n",
            "\t\tH\t[0.0, 0.0, 1.7]\n",
            "\tMasses:\n",
            "\t\tBe\t9\n",
            "\t\tH\t1\n",
            "\t\tH\t1\n"
          ]
        }
      ]
    },
    {
      "cell_type": "markdown",
      "source": [
        "#### More reductions\n",
        "\n",
        "We decided to find the simplest Hamiltonian possible, so that on noisy device the circuit is more shallow, so that there will be less noise to mitigate. In Qiskit tutorial [Simulating Molecules using VQE](https://qiskit.org/textbook/ch-applications/vqe-molecules.html#Problems) is information for $BeH_{2}$ molecule about possibility to use qubit tapering operations to reduce the number of required qubits to 7, without losing any chemical precision (being within 0.0016 [Hartree](https://en.wikipedia.org/wiki/Hartree) of the exact result).\n",
        "\n",
        "TODO: Add info and reference to paper describing possibility to reduce to 5 qubits in BeH2"
      ],
      "metadata": {
        "id": "rNUmwE3NLrpX"
      }
    },
    {
      "cell_type": "code",
      "source": [
        "# Function for a given problem maps fermionic operator to qubits and converts with Pauli operators reduction\n",
        "def reduction(problem_reduced, fermionic_ops, mapper, two_qubit_reduction=False, z2symmetry_reduction=None):\n",
        "  \"\"\"\n",
        "  TODO: description\n",
        "  mapper: one of the available in Qiskit Nature mappers: ParityMapper(), JordanWignerMapper(), BravyiKitaevMapper()\n",
        "  two_qubit_reduction: TODO: description\n",
        "  z2symmetry_reduction: TODO: description\n",
        "  \"\"\"\n",
        "\n",
        "  # Set the qubit converter with two qubit reduction to reduce the computational cost \n",
        "  converter = QubitConverter(mapper, two_qubit_reduction=two_qubit_reduction, z2symmetry_reduction=z2symmetry_reduction)\n",
        "\n",
        "  # Compute the Hamitonian in qubit form\n",
        "  qubit_op = converter.convert(fermionic_ops, num_particles=problem_reduced.num_particles)\n",
        "  \n",
        "  return converter, qubit_op"
      ],
      "metadata": {
        "id": "fL1PJwO7ZkpK"
      },
      "execution_count": null,
      "outputs": []
    },
    {
      "cell_type": "markdown",
      "source": [
        "#### Qubit tapering with Z2 symmetries\n",
        "\n",
        "Qubit tapering is a technique used in Quantum Computing to reduce the number of qubits needed to simulate a quantum system. This technique leverages the presence of certain symmetries in the system to identify a subset of qubits that can be eliminated without affecting the calculation results.\n",
        "\n",
        "Z2 symmetry refers to a property of a quantum state that is invariant under the action of the Z2 group, which consists of two elements: \n",
        "- I - the identity element, represented by the number 1), \n",
        "- Pauli-Z gate - represented by the number -1.\n",
        "\n",
        "In Qiskit Nature [`QubitConverter`](https://qiskit.org/documentation/nature/stubs/qiskit_nature.second_q.mappers.QubitConverter.html) supports Z2 symmetry reduction."
      ],
      "metadata": {
        "id": "G6Jv0WyRjKKi"
      }
    },
    {
      "cell_type": "code",
      "source": [
        "from qiskit.opflow.primitive_ops import Z2Symmetries, PauliSumOp, TaperedPauliSumOp\n",
        "\n",
        "# Reduce problem\n",
        "converter, qubit_op = reduction(problem_reduced, fermionic_ops, mapper=BravyiKitaevMapper())\n",
        "\n",
        "# Find Z2 symmetries for qubit tapering\n",
        "z2symmetries = Z2Symmetries.find_Z2_symmetries(qubit_op)\n",
        "print(z2symmetries)"
      ],
      "metadata": {
        "colab": {
          "base_uri": "https://localhost:8080/"
        },
        "id": "hy0KpKeui15y",
        "outputId": "14ab6d56-3d1b-4f52-f0fa-51a34cc89f33"
      },
      "execution_count": null,
      "outputs": [
        {
          "output_type": "stream",
          "name": "stdout",
          "text": [
            "Z2 symmetries:\n",
            "Symmetries:\n",
            "IIIIZIII\n",
            "IZIZIZIZ\n",
            "ZIIIIIII\n",
            "Single-Qubit Pauli X:\n",
            "IIIIXIII\n",
            "IIIIIIIX\n",
            "XIIIIIII\n",
            "Cliffords:\n",
            "0.7071067811865475 * IIIIZIII\n",
            "+ 0.7071067811865475 * IIIIXIII\n",
            "0.7071067811865475 * IZIZIZIZ\n",
            "+ 0.7071067811865475 * IIIIIIIX\n",
            "0.7071067811865475 * ZIIIIIII\n",
            "+ 0.7071067811865475 * XIIIIIII\n",
            "Qubit index:\n",
            "[3, 0, 7]\n",
            "Tapering values:\n",
            "  - Possible values: [1, 1, 1], [1, 1, -1], [1, -1, 1], [1, -1, -1], [-1, 1, 1], [-1, 1, -1], [-1, -1, 1], [-1, -1, -1]\n"
          ]
        }
      ]
    },
    {
      "cell_type": "markdown",
      "source": [
        "#### Reduction to 5-qubit hamiltonian\n",
        "\n",
        "REVIEW: `reduction()` could be used with ParityMapper and JordanWignerMapper for comparison with final BravyiKitaevMapper and converter with z2symmetry_reduction=[1, 1, 1]"
      ],
      "metadata": {
        "id": "GILDy1sgoIGE"
      }
    },
    {
      "cell_type": "code",
      "source": [
        "# Reduction of the problem to 5-qubit hamiltonian with use of Z2 symmetry reduction for values [1, 1, 1]\n",
        "converter, qubit_op = reduction(problem_reduced, fermionic_ops, mapper=BravyiKitaevMapper(), z2symmetry_reduction=[1,1,1])\n",
        "print(qubit_op)"
      ],
      "metadata": {
        "colab": {
          "base_uri": "https://localhost:8080/"
        },
        "id": "SAQK-EkbeEhq",
        "outputId": "7663ce98-e18e-413a-cb93-1b6f27b7686d"
      },
      "execution_count": null,
      "outputs": [
        {
          "output_type": "stream",
          "name": "stdout",
          "text": [
            "-2.1251355411798682 * IIIII\n",
            "+ 0.09658465993433141 * ZIZZI\n",
            "- 0.001962891713328568 * IIIYY\n",
            "+ 0.001962891713328568 * ZIZYY\n",
            "+ 0.0785764634748828 * ZIZZZ\n",
            "- 0.008851618031181523 * ZIZZX\n",
            "+ 0.008851618031181523 * IIIZX\n",
            "- 0.08569031782260991 * IIIZI\n",
            "- 0.2187311583739367 * IIIZZ\n",
            "+ 0.09658465993433146 * IIZII\n",
            "- 0.001962891713328567 * YYXII\n",
            "+ 0.001962891713328567 * XYYII\n",
            "+ 0.07857646347488272 * IZZII\n",
            "- 0.008851618031181528 * IXZII\n",
            "+ 0.008851618031181528 * ZXIII\n",
            "- 0.08569031782260991 * ZIIII\n",
            "- 0.21873115837393672 * ZZIII\n",
            "+ 0.11989911663595663 * IIIIZ\n",
            "- 0.0076937912107231336 * IIIIX\n",
            "+ 0.0076937912107231336 * ZIZIX\n",
            "+ 0.2945029108928997 * ZIZII\n",
            "+ 0.15347080904163074 * ZIZIZ\n",
            "+ 0.00514074256442611 * ZIZXX\n",
            "- 0.00514074256442611 * IIIXX\n",
            "- 0.009110140443095317 * ZIZXZ\n",
            "+ 0.03676479981578867 * IIIXI\n",
            "- 0.027654659372693353 * IIIXZ\n",
            "+ 0.18603220836053874 * ZIIZI\n",
            "- 0.003900690257491414 * IIZYY\n",
            "+ 0.003900690257491414 * ZIIYY\n",
            "+ 0.03868205812444731 * IZXIZ\n",
            "- 0.03868205812444731 * IIXIZ\n",
            "- 0.03868205812444731 * IZXII\n",
            "+ 0.03868205812444731 * IIXII\n",
            "- 0.009207736722842218 * IZXIX\n",
            "+ 0.009207736722842218 * IIXIX\n",
            "- 0.009207736722842218 * ZZYIY\n",
            "+ 0.009207736722842218 * ZIYIY\n",
            "- 0.003900690257491413 * XYYZI\n",
            "+ 0.003900690257491413 * YYXZI\n",
            "+ 0.043258774282012045 * YYXYY\n",
            "- 0.043258774282012045 * XYYYY\n",
            "- 0.009207736722842216 * IXXIZ\n",
            "- 0.009207736722842216 * ZYYIZ\n",
            "+ 0.009207736722842216 * IXXII\n",
            "+ 0.009207736722842216 * ZYYII\n",
            "+ 0.014458521832541578 * IXXIX\n",
            "+ 0.014458521832541578 * ZYYIX\n",
            "+ 0.014458521832541578 * ZXYIY\n",
            "- 0.014458521832541578 * IYXIY\n",
            "+ 0.19210247393234306 * ZZIZI\n",
            "+ 0.00707852406842579 * IZZYY\n",
            "- 0.00707852406842579 * ZZIYY\n",
            "+ 0.02302575686020923 * YYZIZ\n",
            "+ 0.02302575686020923 * XXIIZ\n",
            "- 0.02302575686020923 * YYZII\n",
            "- 0.02302575686020923 * XXIII\n",
            "- 0.01598830716154928 * YYZIX\n",
            "- 0.01598830716154928 * XXIIX\n",
            "+ 0.01598830716154928 * XYIIY\n",
            "- 0.01598830716154928 * YXZIY\n",
            "+ 0.005740058628777259 * ZXIZI\n",
            "- 0.005740058628777259 * IXZZI\n",
            "- 0.041086754766193855 * IXZYY\n",
            "+ 0.041086754766193855 * ZXIYY\n",
            "+ 0.182440996105051 * IIZZI\n",
            "+ 0.0343707070694436 * XZIIZ\n",
            "- 0.0343707070694436 * XIIIZ\n",
            "- 0.0343707070694436 * XZIII\n",
            "+ 0.0343707070694436 * XIIII\n",
            "- 0.01080649022735733 * XZIIX\n",
            "+ 0.01080649022735733 * XIIIX\n",
            "- 0.01080649022735733 * YZZIY\n",
            "+ 0.01080649022735733 * YIZIY\n",
            "+ 0.19066816779297813 * IZZZI\n",
            "+ 0.19210247393234306 * ZIIZZ\n",
            "+ 0.005740058628777259 * ZIIZX\n",
            "- 0.005740058628777259 * IIZZX\n",
            "+ 0.023025756860209228 * ZZYXY\n",
            "- 0.023025756860209228 * ZIYXY\n",
            "+ 0.023025756860209228 * IZXXX\n",
            "- 0.023025756860209228 * IIXXX\n",
            "+ 0.00707852406842579 * XYYZZ\n",
            "- 0.00707852406842579 * YYXZZ\n",
            "- 0.041086754766193855 * XYYZX\n",
            "+ 0.041086754766193855 * YYXZX\n",
            "- 0.015988307161549267 * ZXYXY\n",
            "+ 0.015988307161549267 * IYXXY\n",
            "- 0.015988307161549267 * IXXXX\n",
            "- 0.015988307161549267 * ZYYXX\n",
            "+ 0.20813312557599367 * ZZIZZ\n",
            "- 0.006897903768342073 * ZZIZX\n",
            "+ 0.006897903768342073 * IZZZX\n",
            "- 0.022738836918805835 * XYIXY\n",
            "+ 0.022738836918805835 * YXZXY\n",
            "+ 0.022738836918805835 * YYZXX\n",
            "+ 0.022738836918805835 * XXIXX\n",
            "- 0.006897903768342073 * ZXIZZ\n",
            "+ 0.006897903768342073 * IXZZZ\n",
            "+ 0.04494518194436847 * ZXIZX\n",
            "- 0.04494518194436847 * IXZZX\n",
            "+ 0.19066816779297813 * IIZZZ\n",
            "+ 0.022641586562342608 * YZZXY\n",
            "- 0.022641586562342608 * YIZXY\n",
            "+ 0.022641586562342608 * XZIXX\n",
            "- 0.022641586562342608 * XIIXX\n",
            "+ 0.2002658710142292 * IZZZZ\n",
            "+ 0.034370707069443604 * IZXXZ\n",
            "- 0.034370707069443604 * IIXXZ\n",
            "- 0.034370707069443604 * IZXXI\n",
            "+ 0.034370707069443604 * IIXXI\n",
            "- 0.01080649022735733 * IXXXZ\n",
            "- 0.01080649022735733 * ZYYXZ\n",
            "+ 0.01080649022735733 * IXXXI\n",
            "+ 0.01080649022735733 * ZYYXI\n",
            "+ 0.022641586562342608 * YYZXZ\n",
            "+ 0.022641586562342608 * XXIXZ\n",
            "- 0.022641586562342608 * YYZXI\n",
            "- 0.022641586562342608 * XXIXI\n",
            "+ 0.03352129917193912 * XZIXZ\n",
            "- 0.03352129917193912 * XIIXZ\n",
            "- 0.03352129917193912 * XZIXI\n",
            "+ 0.03352129917193912 * XIIXI\n",
            "+ 0.11989911663595663 * IZIII\n",
            "- 0.0076937912107231336 * IXIII\n",
            "+ 0.0076937912107231336 * ZXZII\n",
            "+ 0.15347080904163074 * ZZZII\n",
            "- 0.00514074256442611 * YXYII\n",
            "- 0.00514074256442611 * XXXII\n",
            "+ 0.009110140443095317 * YZYII\n",
            "+ 0.03676479981578867 * XIXII\n",
            "- 0.027654659372693353 * XZXII\n"
          ]
        }
      ]
    },
    {
      "cell_type": "markdown",
      "source": [
        "#### Calculate reference ground state energy\n",
        "\n",
        "We need to compare the calculated values with reference value (exact ground state energy), so in function `simulated_results` we will employ the Unitary Couple Cluster (UCCSD) ansatz as our variational form and the Sequential Least Squares Programming (SLSQP) optimizer."
      ],
      "metadata": {
        "id": "cpSp3JutOa6T"
      }
    },
    {
      "cell_type": "code",
      "source": [
        "# Get reference solution by simulating on statevector simulated quantum instance and ansatz\n",
        "def simulated_results(maxiter=50): \n",
        "  vqe_factory = VQEUCCFactory(quantum_instance=Aer.get_backend(\"aer_simulator_statevector\"),optimizer=SLSQP(maxiter=maxiter),\n",
        "                              ansatz=UCC(excitations='sd') # UCC\"SD\" ansatz\n",
        "                            )\n",
        "  solver = GroundStateEigensolver(converter, vqe_factory)    \n",
        "  reference_value = solver.solve(problem_reduced).total_energies[0]\n",
        "  ansatz=vqe_factory.ansatz\n",
        "  return reference_value, ansatz"
      ],
      "metadata": {
        "id": "RfaRTZkKOTsv"
      },
      "execution_count": null,
      "outputs": []
    },
    {
      "cell_type": "code",
      "source": [
        "# REVIEW: Is the random_seed needed for simulated results? If so, comment needed\n",
        "algorithm_globals.random_seed = 1024\n",
        "\n",
        "# Calculate ground state energy on simulated backend\n",
        "reference_value, ansatz = simulated_results()\n",
        "print(\"Reference value:\", reference_value)"
      ],
      "metadata": {
        "colab": {
          "base_uri": "https://localhost:8080/"
        },
        "id": "7o9aTBV7f2Y4",
        "outputId": "74fa193a-18e4-40bc-9f2d-0d10b371aa11"
      },
      "execution_count": null,
      "outputs": [
        {
          "output_type": "stream",
          "name": "stdout",
          "text": [
            "Reference value: (-15.523353144062066+0j)\n"
          ]
        }
      ]
    },
    {
      "cell_type": "markdown",
      "source": [
        "### Variational Quantum Eigensolver (VQE)\n",
        "\n",
        "In quantum computing, the Variational Quantum Eigensolver (VQE) is a hybrid quantum-classical algorithm used to find the ground state energy of a given Hamiltonian. The VQE algorithm involves preparing a quantum state using a parametrized quantum circuit called an `ansatz`, and then optimizing the parameters of the circuit to minimize the energy of the Hamiltonian.\n",
        "\n",
        "The choice of the ansatz is an important factor in the VQE algorithm, as it determines the expressiveness of the circuit and the computational resources required to run the algorithm. An ansatz with more parameters and deeper circuit depth (like UCCSD) can represent more complex quantum states, but requires more computational resources to simulate and run on a quantum device.\n",
        "\n",
        "Due to the limitations of current NISQ (Noisy Intermediate-Scale Quantum) devices, it is often more feasible to use shallower circuits with fewer parameters in the VQE algorithm. This is because the higher error rates and limited coherence times of NISQ devices can make it challenging to simulate and execute deep circuits accurately.\n",
        "\n",
        "A common strategy in VQE is to start with a simple, shallow ansatz and gradually increase its complexity until the desired accuracy is achieved. This approach allows the algorithm to be run on NISQ devices while still exploring a wide range of quantum states."
      ],
      "metadata": {
        "id": "vGzE1UY8hHya"
      }
    },
    {
      "cell_type": "markdown",
      "source": [
        "#### Parametrized quantum circuit (ansatz)"
      ],
      "metadata": {
        "id": "neNVKokxRzFi"
      }
    },
    {
      "cell_type": "code",
      "source": [
        "from qiskit.circuit import ParameterVector\n",
        "\n",
        "# number of qubits for reduced problem with tapered qubits\n",
        "n_qubit = 5\n",
        "\n",
        "# number of layers of parametrized custom circuit (ansatz)\n",
        "depth = 4\n",
        "\n",
        "custom_ansatz = QuantumCircuit(n_qubit)\n",
        "theta = ParameterVector('θ', n_qubit*depth*4)# rx +6)\n",
        "\n",
        "for d in range(depth):\n",
        "  for i in range(n_qubit):\n",
        "    custom_ansatz.ry(theta[2*i+2*n_qubit*d], i)\n",
        "    custom_ansatz.rz(theta[2*i+1+2*n_qubit*d], i)\n",
        "  custom_ansatz.barrier()\n",
        "  for i in range(n_qubit//2):\n",
        "    custom_ansatz.cx(2*i, 2*i+1)\n",
        "  for i in range(n_qubit//2-1):\n",
        "    custom_ansatz.cx(2*i+1, 2*i+2)\n",
        "  custom_ansatz.cx(n_qubit-1, 0)\n",
        "  custom_ansatz.barrier()\n",
        "  for i in range(n_qubit):\n",
        "    custom_ansatz.ry(theta[2*i+2*n_qubit*depth], i)\n",
        "    custom_ansatz.rz(theta[2*i+1+2*n_qubit*depth], i)\n",
        "    #if d == 0:\n",
        "    #  custom_ansatz.rx(theta[2*i+1+2*n_qubit*depth], i)\n",
        "\n",
        "print(\"Circuit depth:\", custom_ansatz.depth())\n",
        "custom_ansatz.draw('mpl')"
      ],
      "metadata": {
        "colab": {
          "base_uri": "https://localhost:8080/",
          "height": 566
        },
        "id": "OJ9NVtpkf2bV",
        "outputId": "9a1816d7-d618-47bb-e093-a1769a1f590f"
      },
      "execution_count": null,
      "outputs": [
        {
          "output_type": "stream",
          "name": "stdout",
          "text": [
            "Circuit depth: 24\n"
          ]
        },
        {
          "output_type": "execute_result",
          "data": {
            "text/plain": [
              "<Figure size 1591.6x686.28 with 1 Axes>"
            ],
            "image/png": "[encoded data removed]"
          },
          "metadata": {},
          "execution_count": 19
        }
      ]
    },
    {
      "cell_type": "markdown",
      "source": [
        "For comparison, we can check how big was initial ansatz created with UCCSD method."
      ],
      "metadata": {
        "id": "J5bK4bMnSEyV"
      }
    },
    {
      "cell_type": "code",
      "source": [
        "# UCCSD circuit depth\n",
        "print(\"UCCSD circuit depth:\", ansatz.decompose(reps=3).depth())"
      ],
      "metadata": {
        "id": "v5-Q5rFpR9d3"
      },
      "execution_count": null,
      "outputs": []
    },
    {
      "cell_type": "markdown",
      "source": [
        "### TODO: description of VQE and custom VQE class\n",
        "\n",
        "We have defined a custom VQE class to orchestrate the ansatz, classical optimizers, initial point, callback, and final result."
      ],
      "metadata": {
        "id": "OYrfY5SNiWeD"
      }
    },
    {
      "cell_type": "code",
      "source": [
        "from qiskit.algorithms import MinimumEigensolver, VQEResult, MinimumEigensolverResult\n",
        "\n",
        "params_history = []\n",
        "\n",
        "class CustomVQE(MinimumEigensolver):\n",
        "\n",
        "    def __init__(self, estimator, circuit, optimizer, problem=None, callback=None, aux_operators=None):\n",
        "        self._estimator = estimator\n",
        "        self._circuit = circuit\n",
        "        self._optimizer = optimizer\n",
        "        self._problem = problem\n",
        "        self._callback = callback\n",
        "        \n",
        "    def compute_minimum_eigenvalue(self, operators, initial_point=None):\n",
        "\n",
        "        # Define objective function to classically minimize over\n",
        "        def objective(x):\n",
        "            \n",
        "            # Execute job with estimator primitive\n",
        "            x = list(x)\n",
        "            job = self._estimator.run([self._circuit], [operators], [x])\n",
        "\n",
        "            # Add parameters to history\n",
        "            params_history.append(x)\n",
        "\n",
        "            # Get results from jobs\n",
        "            est_result = job.result()\n",
        "            \n",
        "            # Get the measured energy value\n",
        "            value = est_result.values[0]\n",
        "            \n",
        "            # Interpret results (add nuclear repulsion energy)\n",
        "            sol = MinimumEigensolverResult()\n",
        "            sol.eigenvalue = value\n",
        "            sol = self._problem.interpret(sol).total_energies[0]\n",
        "\n",
        "            # Save result information using callback function\n",
        "            if self._callback is not None:\n",
        "                self._callback(np.real(sol))\n",
        "            return np.real(sol)\n",
        "\n",
        "        # Select an initial point for parametrized circuit\n",
        "        if initial_point is None:\n",
        "            initial_point = np.random.rand(self._circuit.num_parameters)\n",
        "        \n",
        "        #print(self._initial_point)\n",
        "        # TODO: Initial point as parameter\n",
        "        res = self._optimizer.minimize(objective, x0=initial_point)#, bounds=[-18.5,-16])#self._initial_point)\n",
        "\n",
        "        # Populate VQE result\n",
        "        result = VQEResult()\n",
        "        result.cost_function_evals = res.nfev\n",
        "        result.eigenvalue = res.fun\n",
        "        result.optimal_value = res.fun\n",
        "        result.optimal_parameters = res.x\n",
        "\n",
        "        return result, params_history"
      ],
      "metadata": {
        "id": "8VQfPF4Lf2d2"
      },
      "execution_count": null,
      "outputs": []
    },
    {
      "cell_type": "markdown",
      "source": [
        "### TODO: describe VQE setting for BeH2 simulation, why optimizer SLSQP, etc."
      ],
      "metadata": {
        "id": "gef0uuD3lVfb"
      }
    },
    {
      "cell_type": "code",
      "source": [
        "# AerEstimator need to be imported before estimator initialization\n",
        "from qiskit_aer.primitives import Estimator as AerEstimator"
      ],
      "metadata": {
        "id": "3ritO8Hoo1Rz"
      },
      "execution_count": null,
      "outputs": []
    },
    {
      "cell_type": "code",
      "source": [
        "# Define instance of Aer Estimator primitive for faster runs\n",
        "estimator = AerEstimator([custom_ansatz], [qubit_op], backend_options={'method':'statevector'}, run_options={'shots':None}, approximation=True)\n",
        "\n",
        "# Define a simple callback function returning interpreted eigenvalue\n",
        "intermediate_info = []\n",
        "def callback(value):\n",
        "        # Overwrites the same line when printing\n",
        "        display(\"Energy: {}\".format(value))\n",
        "        clear_output(wait=True)\n",
        "        intermediate_info.append(value)\n",
        "\n",
        "# Choose optimizer and set maximum number of iterations\n",
        "optimizer = SLSQP(maxiter=500)\n",
        "\n",
        "# Calculate for deterministic and \n",
        "initial_point = np.ones(custom_ansatz.num_parameters) * np.pi/4"
      ],
      "metadata": {
        "id": "emr5HYSClVBo"
      },
      "execution_count": null,
      "outputs": []
    },
    {
      "cell_type": "markdown",
      "source": [
        "#### TODO: calculate VQE for deterministic and random `initial_point`"
      ],
      "metadata": {
        "id": "JDW5g_PikBqR"
      }
    },
    {
      "cell_type": "code",
      "source": [
        "# Plots graph with expectation values results for reach function evaluation\n",
        "def plot_graph(energy, reference_value, molecule, color=\"tab:blue\", save=None):\n",
        "    \n",
        "    plt.rcParams[\"font.size\"] = 14\n",
        "\n",
        "    # plot loss and reference value\n",
        "    plt.figure(figsize=(12, 6), facecolor='white')\n",
        "    plt.plot(energy, label=\"Estimator VQE {}\".format(molecule),color = color)\n",
        "    plt.grid()\n",
        "    plt.axhline(y=reference_value.real-0.0016, color=\"tab:green\", ls=\"--\", lw=2, label=\"-0.0016 Hartree\")\n",
        "    #plt.text(x=0,y=0.0005+reference_value.real+0.0016,s='+0.0016',color=\"green\")\n",
        "    plt.text(x=0,y=0.0005+reference_value.real+0.0016,s='Chemical accuracy',color=\"green\")\n",
        "    plt.axhline(y=reference_value.real, color=\"tab:red\", ls=\"--\", label=\"Target\")\n",
        "    plt.axhline(y=reference_value.real+0.0016, color=\"tab:green\", ls=\"--\", lw=2, label=\"+0.0016 Hartree\")\n",
        "    #plt.text(x=0,y=0.0005+reference_value.real-0.0016,s='-0.0016',color=\"green\")\n",
        "    plt.legend(loc=\"best\")\n",
        "    plt.xlabel(\"# Evaluations\")\n",
        "    plt.ylabel(\"Energy [Hartree]\")\n",
        "    plt.title(\"VQE energy\")\n",
        "    if save:\n",
        "      plt.savefig(fname=f\"{molecule}_Energy.png\", bbox_inches='tight', transparent=False)\n",
        "    plt.show()"
      ],
      "metadata": {
        "id": "n9WIom_WpsKS"
      },
      "execution_count": null,
      "outputs": []
    },
    {
      "cell_type": "markdown",
      "source": [
        "#### TODO: describe training"
      ],
      "metadata": {
        "id": "eCCtQBXyq4I_"
      }
    },
    {
      "cell_type": "code",
      "source": [
        "%%time\n",
        "# Setup VQE algorithm\n",
        "intermediate_info = []\n",
        "custom_vqe = CustomVQE(estimator, custom_ansatz, optimizer, problem_reduced, callback=callback)\n",
        "\n",
        "# Run the custom VQE function and monitor execution time\n",
        "result, params_history = custom_vqe.compute_minimum_eigenvalue(qubit_op, initial_point=initial_point)"
      ],
      "metadata": {
        "colab": {
          "base_uri": "https://localhost:8080/",
          "height": 52
        },
        "id": "1a0IsIGsiJoi",
        "outputId": "76fbe5aa-3c7d-49fd-ce56-2f987154eb0d"
      },
      "execution_count": null,
      "outputs": [
        {
          "output_type": "stream",
          "name": "stdout",
          "text": [
            "CPU times: user 2min 35s, sys: 6.52 s, total: 2min 42s\n",
            "Wall time: 3min 15s\n"
          ]
        }
      ]
    },
    {
      "cell_type": "code",
      "source": [
        "# Plot Graph BeH2\n",
        "energy = intermediate_info.copy()\n",
        "print(\"Relative error:\", np.round(np.abs((energy[-1].real-reference_value)/reference_value*100),4), \"%\", \" = \", np.abs(energy[-1].real-reference_value), \"Ha\")\n",
        "\n",
        "plot_graph(energy[-5000:], reference_value, molecule=f\"BeH2, bond length = {distance}\", color=\"tab:blue\", save=None)\n",
        "print(\"Optimal parameters:\", result.optimal_parameters)"
      ],
      "metadata": {
        "colab": {
          "base_uri": "https://localhost:8080/",
          "height": 659
        },
        "id": "_r4mpH0zq0ah",
        "outputId": "3f5c8448-5b9f-4508-aa3d-34ff0306f6a7"
      },
      "execution_count": null,
      "outputs": [
        {
          "output_type": "stream",
          "name": "stdout",
          "text": [
            "Relative error: 0.0078 %  =  0.0012039322219656867 Ha\n"
          ]
        },
        {
          "output_type": "display_data",
          "data": {
            "text/plain": [
              "<Figure size 864x432 with 1 Axes>"
            ],
            "image/png": "[encoded data removed]"
          },
          "metadata": {}
        },
        {
          "output_type": "stream",
          "name": "stdout",
          "text": [
            "Optimal parameters: [ 8.52178281e-01  2.21222695e+00  1.36686708e+00  1.42889200e+00\n",
            "  1.58719253e+00  1.01079468e-01  1.19281453e+00  6.67422949e-02\n",
            "  1.83518732e+00  4.18488563e-01  1.46168618e+00  1.54014674e+00\n",
            "  1.43038087e-01  5.67119830e-01  1.74121591e+00  3.25376156e-02\n",
            "  1.25194603e+00  2.50029504e-02  3.10103525e-01  9.69752278e-01\n",
            " -1.07805683e-01  2.83990259e+00  6.15313679e-01  1.12560171e-01\n",
            "  9.12073794e-01  2.22029964e+00  1.55004759e+00 -3.65480642e-02\n",
            "  1.84442406e+00  8.30384118e-01  1.85293465e+00 -1.72256392e+00\n",
            "  7.12971149e-03  4.01585250e-01  9.66291069e-01  1.11716661e+00\n",
            "  1.60154065e+00  1.39872459e-01  1.51009696e-02  6.17138573e-01\n",
            "  1.63861440e+00  1.65937696e-01  1.27180568e+00  1.14805424e+00\n",
            " -1.12279107e-01  1.13736690e+00  1.56990245e+00  1.33039074e+00\n",
            " -2.26329652e-03  1.67630279e+00]\n"
          ]
        }
      ]
    }
  ]
}