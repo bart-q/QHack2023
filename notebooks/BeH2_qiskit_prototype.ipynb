{
  "cells": [
    {
      "cell_type": "code",
      "execution_count": null,
      "id": "cb077649-38b1-454a-a637-4d9aabf00cdc",
      "metadata": {
        "id": "cb077649-38b1-454a-a637-4d9aabf00cdc"
      },
      "outputs": [],
      "source": [
        "#%pip install qiskit --upgrade --quiet\n",
        "#%pip install qiskit-nature --upgrade --quiet\n",
        "#%pip install pyscf --upgrade --quiet # 1.7.6 -> 2.1.1\n",
        "#%pip install qiskit_nature_pyscf --upgrade --quiet\n",
        "\n",
        "#!pip install pennylane pennylane-qiskit --quiet # after installing pennylane-qiskit kernel need to be restarted"
      ]
    },
    {
      "cell_type": "code",
      "source": [
        "# connect with Google Drive\n",
        "from google.colab import drive\n",
        "drive.mount('/content/gdrive')"
      ],
      "metadata": {
        "colab": {
          "base_uri": "https://localhost:8080/"
        },
        "id": "_Rm5EiP8xeCV",
        "outputId": "b1592b92-0b52-4e3b-c8c8-6e805040f1dd"
      },
      "id": "_Rm5EiP8xeCV",
      "execution_count": null,
      "outputs": [
        {
          "output_type": "stream",
          "name": "stdout",
          "text": [
            "Mounted at /content/gdrive\n"
          ]
        }
      ]
    },
    {
      "cell_type": "markdown",
      "source": [
        "[Details of dataset](https://github.com/qulacs/Quantaggle_dataset/blob/master/datasets/Small_Molecules_1/README.md)"
      ],
      "metadata": {
        "id": "7jmNyBsFx4pz"
      },
      "id": "7jmNyBsFx4pz"
    },
    {
      "cell_type": "code",
      "source": [
        "!pip install openfermion --quiet"
      ],
      "metadata": {
        "colab": {
          "base_uri": "https://localhost:8080/"
        },
        "id": "m0IkM5F_yOGj",
        "outputId": "4ac46787-da52-4cdc-f34a-b44a0e621a63"
      },
      "id": "m0IkM5F_yOGj",
      "execution_count": null,
      "outputs": [
        {
          "output_type": "stream",
          "name": "stdout",
          "text": [
            "\u001b[?25l     \u001b[90m━━━━━━━━━━━━━━━━━━━━━━━━━━━━━━━━━━━━━━━━\u001b[0m \u001b[32m0.0/1.1 MB\u001b[0m \u001b[31m?\u001b[0m eta \u001b[36m-:--:--\u001b[0m\r\u001b[2K     \u001b[90m━━━━━━━━━━━━━━━━━━━━━━━━━━━━━━━━━━━━━━━━\u001b[0m \u001b[32m1.1/1.1 MB\u001b[0m \u001b[31m45.1 MB/s\u001b[0m eta \u001b[36m0:00:00\u001b[0m\n",
            "\u001b[?25h  Preparing metadata (setup.py) ... \u001b[?25l\u001b[?25hdone\n",
            "\u001b[2K     \u001b[90m━━━━━━━━━━━━━━━━━━━━━━━━━━━━━━━━━━━━━━━━\u001b[0m \u001b[32m1.8/1.8 MB\u001b[0m \u001b[31m85.8 MB/s\u001b[0m eta \u001b[36m0:00:00\u001b[0m\n",
            "\u001b[2K     \u001b[90m━━━━━━━━━━━━━━━━━━━━━━━━━━━━━━━━━━━━━━\u001b[0m \u001b[32m577.4/577.4 KB\u001b[0m \u001b[31m38.6 MB/s\u001b[0m eta \u001b[36m0:00:00\u001b[0m\n",
            "\u001b[2K     \u001b[90m━━━━━━━━━━━━━━━━━━━━━━━━━━━━━━━━━━━━━━━━\u001b[0m \u001b[32m2.0/2.0 MB\u001b[0m \u001b[31m49.1 MB/s\u001b[0m eta \u001b[36m0:00:00\u001b[0m\n",
            "\u001b[2K     \u001b[90m━━━━━━━━━━━━━━━━━━━━━━━━━━━━━━━━━━━━━━\u001b[0m \u001b[32m120.2/120.2 KB\u001b[0m \u001b[31m11.1 MB/s\u001b[0m eta \u001b[36m0:00:00\u001b[0m\n",
            "\u001b[?25h  Building wheel for pubchempy (setup.py) ... \u001b[?25l\u001b[?25hdone\n"
          ]
        }
      ]
    },
    {
      "cell_type": "markdown",
      "source": [
        "### Import molecular data from file"
      ],
      "metadata": {
        "id": "UrVfpt1C9csI"
      },
      "id": "UrVfpt1C9csI"
    },
    {
      "cell_type": "code",
      "source": [
        "from openfermion.chem import MolecularData\n",
        "from openfermion.transforms import get_fermion_operator, jordan_wigner\n",
        "\n",
        "# .hdf5 file  contain information on self-consistent field (SCF) molecular orbitals and their overlaps\n",
        "# interatomic distance at which the molecule is most stable is having the lowest FCI energy\n",
        "distance = \"1.3165\" #\"0.50\"\n",
        "molecular_data = MolecularData(filename=f\"/content/gdrive/MyDrive/qhack/BeH2_sto-3g_singlet_{distance}.hdf5\") # load hdf5 file\n",
        "molecular_hamiltonian = get_fermion_operator(molecular_data.get_molecular_hamiltonian()) # get an instance of second quantized hamiltonian"
      ],
      "metadata": {
        "id": "wajSudH3x1R3"
      },
      "id": "wajSudH3x1R3",
      "execution_count": null,
      "outputs": []
    },
    {
      "cell_type": "code",
      "source": [
        "print(f\"description: {molecular_data.description}\", \n",
        "      \"\\n\", f\"geometry: {molecular_data.geometry}\", \n",
        "      \"\\n\", f\"general_calculations: {molecular_data.general_calculations}\",\n",
        "      \"\\n\", f\"basis: {molecular_data.basis}\",\n",
        "      \"\\n\", f\"charge: {molecular_data.charge}\",\n",
        "      \"\\n\", f\"multiplicity: {molecular_data.multiplicity}\",\n",
        "      \"\\n\", f\"fci_energy: {molecular_data.fci_energy}\",\n",
        "      \"\\n\", f\"nuclear_repulsion: {molecular_data.nuclear_repulsion}\",\n",
        "      \"\\n\", f\"n_qubits: {molecular_data.n_qubits}\",      \n",
        "      )"
      ],
      "metadata": {
        "colab": {
          "base_uri": "https://localhost:8080/"
        },
        "id": "MM-BjuBB3YvF",
        "outputId": "7ba28266-1ac8-4750-abb3-5b02aa9ac461"
      },
      "id": "MM-BjuBB3YvF",
      "execution_count": null,
      "outputs": [
        {
          "output_type": "stream",
          "name": "stdout",
          "text": [
            "description: BeH2 \n",
            " geometry: [('H', [0.0, 0.0, -1.3165]), ('Be', [0.0, 0.0, 0.0]), ('H', [0.0, 0.0, 1.3165])] \n",
            " general_calculations: {'bond_length': 1.3165, '1st_excited_energy': -15.327119910841656} \n",
            " basis: sto3g \n",
            " charge: 0 \n",
            " multiplicity: 1 \n",
            " fci_energy: -15.595246750705304 \n",
            " nuclear_repulsion: 3.4166397970527917 \n",
            " n_qubits: 14\n"
          ]
        }
      ]
    },
    {
      "cell_type": "markdown",
      "source": [
        "[Molecular data attributes](https://quantumai.google/reference/python/openfermion/chem/MolecularData):\n",
        "- `geometry`- A list of tuples giving the coordinates of each atom. An example is [('H', (0, 0, 0)), ('H', (0, 0, 0.7414))]. Distances in angstrom. Use atomic symbols to specify atoms.\n",
        "- `basis` - A string giving the basis set. An example is 'cc-pvtz'.\n",
        "- `charge` - An integer giving the total molecular charge. Defaults to 0.\n",
        "- `multiplicity`- An integer giving the spin multiplicity.\n",
        "\n",
        "Definitions:\n",
        "- `1st_excited_energy`: exact 1st excited state energy in the singlet (spin S^2=0) sector calculated by the full configuration interaction\n",
        "- `bond_length_opt`: optimal bond length in which `fci_energy` takes minimum (4 digits accuracy after the decimal point). This value is common among data points for the same molecule.\n",
        "- `fci_energy_lowest`: ground state energy at `bond_length_opt`"
      ],
      "metadata": {
        "id": "2APqE2oa2jEW"
      },
      "id": "2APqE2oa2jEW"
    },
    {
      "cell_type": "code",
      "source": [
        "distance = molecular_data.general_calculations[\"bond_length\"]\n",
        "distance"
      ],
      "metadata": {
        "colab": {
          "base_uri": "https://localhost:8080/"
        },
        "id": "De4bV7i72HqF",
        "outputId": "24d71848-ec54-4026-aa85-230c636d3336"
      },
      "id": "De4bV7i72HqF",
      "execution_count": null,
      "outputs": [
        {
          "output_type": "execute_result",
          "data": {
            "text/plain": [
              "1.3165"
            ]
          },
          "metadata": {},
          "execution_count": 70
        }
      ]
    },
    {
      "cell_type": "code",
      "source": [
        "jw_hamiltonian = jordan_wigner(molecular_hamiltonian) # get a Pauli operator representation of the hamiltonian\n",
        "#jw_hamiltonian"
      ],
      "metadata": {
        "id": "aCEHcn9t1TuI"
      },
      "id": "aCEHcn9t1TuI",
      "execution_count": null,
      "outputs": []
    },
    {
      "cell_type": "code",
      "source": [
        "!pip install qiskit qiskit-nature pyscf qiskit_nature_pyscf --quiet"
      ],
      "metadata": {
        "id": "QOGlJ02sMwuG"
      },
      "id": "QOGlJ02sMwuG",
      "execution_count": null,
      "outputs": []
    },
    {
      "cell_type": "code",
      "source": [
        "# colab requirement for qiskit draw function, kernel restart needed after install\n",
        "!pip install pylatexenc --quiet"
      ],
      "metadata": {
        "colab": {
          "base_uri": "https://localhost:8080/"
        },
        "id": "NVTPqFKqNeJS",
        "outputId": "12380cbb-b138-412a-a9d2-8cecf59b359b"
      },
      "id": "NVTPqFKqNeJS",
      "execution_count": null,
      "outputs": [
        {
          "output_type": "stream",
          "name": "stdout",
          "text": [
            "\u001b[?25l     \u001b[90m━━━━━━━━━━━━━━━━━━━━━━━━━━━━━━━━━━━━━━━━\u001b[0m \u001b[32m0.0/162.6 KB\u001b[0m \u001b[31m?\u001b[0m eta \u001b[36m-:--:--\u001b[0m\r\u001b[2K     \u001b[90m━━━━━━━━━━━━━━━━━━━━━━━━━━━━━━━━━━━━━━━\u001b[0m \u001b[32m162.6/162.6 KB\u001b[0m \u001b[31m6.9 MB/s\u001b[0m eta \u001b[36m0:00:00\u001b[0m\n",
            "\u001b[?25h  Preparing metadata (setup.py) ... \u001b[?25l\u001b[?25hdone\n",
            "  Building wheel for pylatexenc (setup.py) ... \u001b[?25l\u001b[?25hdone\n"
          ]
        }
      ]
    },
    {
      "cell_type": "markdown",
      "id": "3a742127-c5eb-477b-9f09-dd6d475fa890",
      "metadata": {
        "id": "3a742127-c5eb-477b-9f09-dd6d475fa890"
      },
      "source": [
        "[Qiskit Nature 0.5: Toward quantum-centric supercomputing in the realm of natural sciences](https://medium.com/qiskit/qiskit-nature-0-5-toward-quantum-centric-supercomputing-in-the-realm-of-natural-sciences-a2fe854737cf)"
      ]
    },
    {
      "cell_type": "code",
      "execution_count": null,
      "id": "4b1e8394-83be-4a8e-b625-c49295feca5c",
      "metadata": {
        "id": "4b1e8394-83be-4a8e-b625-c49295feca5c"
      },
      "outputs": [],
      "source": [
        "from pyscf import gto, scf, mcscf\n",
        "import numpy as np\n",
        "import qiskit\n",
        "qiskit.__qiskit_version__\n",
        "from qiskit.algorithms.optimizers import SLSQP, SPSA, L_BFGS_B\n",
        "from qiskit.primitives import Estimator\n",
        "from qiskit_nature.second_q.circuit.library import UCCSD\n",
        "from qiskit_nature.second_q.algorithms import VQEUCCFactory, GroundStateEigensolver\n",
        "from qiskit_nature.second_q.mappers import QubitConverter, ParityMapper, JordanWignerMapper\n",
        "from qiskit_nature_pyscf import QiskitSolver  "
      ]
    },
    {
      "cell_type": "markdown",
      "source": [
        "[Nonorthogonal configuration interaction study of the ground state of $BeH_{2}$](https://aip.scitation.org/doi/pdf/10.1063/1.1679000)\n",
        "\n",
        ">For the largest basis, a calculated energy of −15.8478 hartree at an equilibrium Be–H bond distance of 2.52 bohr is obtained with an optimized 80‐term wavefunction"
      ],
      "metadata": {
        "id": "eQIPy2fcEE3Y"
      },
      "id": "eQIPy2fcEE3Y"
    },
    {
      "cell_type": "code",
      "execution_count": null,
      "id": "ba5b44af-aebf-41af-8e1e-b3abdef85ef3",
      "metadata": {
        "colab": {
          "base_uri": "https://localhost:8080/"
        },
        "id": "ba5b44af-aebf-41af-8e1e-b3abdef85ef3",
        "outputId": "841560cc-5399-4725-d569-e8ab97455a8e"
      },
      "outputs": [
        {
          "output_type": "stream",
          "name": "stdout",
          "text": [
            "System: uname_result(system='Linux', node='f75763291be3', release='5.10.147+', version='#1 SMP Sat Dec 10 16:00:40 UTC 2022', machine='x86_64', processor='x86_64')  Threads 2\n",
            "Python 3.8.10 (default, Nov 14 2022, 12:59:47) \n",
            "[GCC 9.4.0]\n",
            "numpy 1.22.4  scipy 1.7.3\n",
            "Date: Wed Feb 22 21:42:21 2023\n",
            "PySCF version 2.1.1\n",
            "PySCF path  /usr/local/lib/python3.8/dist-packages/pyscf\n",
            "\n",
            "[CONFIG] conf_file None\n",
            "[INPUT] verbose = 4\n",
            "[INPUT] num. atoms = 3\n",
            "[INPUT] num. electrons = 6\n",
            "[INPUT] charge = 0\n",
            "[INPUT] spin (= nelec alpha-beta = 2S) = 0\n",
            "[INPUT] symmetry False subgroup None\n",
            "[INPUT] Mole.unit = angstrom\n",
            "[INPUT] Symbol           X                Y                Z      unit          X                Y                Z       unit  Magmom\n",
            "[INPUT]  1 Be     0.000000000000   0.000000000000   0.000000000000 AA    0.000000000000   0.000000000000   0.000000000000 Bohr   0.0\n",
            "[INPUT]  2 H      0.000000000000   0.000000000000  -2.520000000000 AA    0.000000000000   0.000000000000  -4.762109833904 Bohr   0.0\n",
            "[INPUT]  3 H      0.000000000000   0.000000000000   2.520000000000 AA    0.000000000000   0.000000000000   4.762109833904 Bohr   0.0\n",
            "\n",
            "nuclear repulsion = 1.78492313207143\n",
            "number of shells = 5\n",
            "number of NR pGTOs = 21\n",
            "number of NR cGTOs = 7\n",
            "basis = sto3g\n",
            "ecp = {}\n",
            "CPU time:       138.39\n"
          ]
        }
      ],
      "source": [
        "#import basis_set_exchange\n",
        "\n",
        "# Define molecule BeH2\n",
        "mol = gto.M(\n",
        "  #atom=\"Be 0 0 0; H -0.944865 0 0; H 0.944865 0 0\",\n",
        "  atom=\"H 0 0 -1.3165; Be 0 0 0; H 0 0 1.3165\",\n",
        "  #atom=\"Be 0 0 0; H 0 0 -2.52; H 0 0 2.52\",\n",
        "  basis=\"sto3g\",\n",
        "  verbose=4\n",
        ")"
      ]
    },
    {
      "cell_type": "code",
      "execution_count": null,
      "id": "a702a901-6f12-4112-996a-b4736607f8b9",
      "metadata": {
        "colab": {
          "base_uri": "https://localhost:8080/"
        },
        "id": "a702a901-6f12-4112-996a-b4736607f8b9",
        "outputId": "cfc0f926-1a32-4467-fafd-50fe42eb7162"
      },
      "outputs": [
        {
          "output_type": "stream",
          "name": "stdout",
          "text": [
            "\n",
            "\n",
            "******** <class 'pyscf.scf.hf.RHF'> ********\n",
            "method = RHF\n",
            "initial guess = minao\n",
            "damping factor = 0\n",
            "level_shift factor = 0\n",
            "DIIS = <class 'pyscf.scf.diis.CDIIS'>\n",
            "diis_start_cycle = 1\n",
            "diis_space = 8\n",
            "SCF conv_tol = 1e-09\n",
            "SCF conv_tol_grad = None\n",
            "SCF max_cycles = 250\n",
            "direct_scf = True\n",
            "direct_scf_tol = 1e-13\n",
            "chkfile to save SCF result = /content/tmpv3yek7gh\n",
            "max_memory 4000 MB (current use 361 MB)\n",
            "Set gradient conv threshold to 3.16228e-05\n",
            "init E= -14.9302120098519\n",
            "  HOMO = -0.127581628631299  LUMO = -0.0348545582811847\n",
            "cycle= 1 E= -15.1204480274949  delta_E= -0.19  |g|= 0.127  |ddm|= 1.46\n",
            "  HOMO = -0.197623280756584  LUMO = 0.0620136701247251\n",
            "cycle= 2 E= -15.1472292140917  delta_E= -0.0268  |g|= 0.0628  |ddm|= 0.431\n",
            "  HOMO = -0.22472091945782  LUMO = 0.0871386409119163\n",
            "cycle= 3 E= -15.1560657501581  delta_E= -0.00884  |g|= 0.013  |ddm|= 0.392\n",
            "  HOMO = -0.223486204079311  LUMO = 0.0909345544297282\n",
            "cycle= 4 E= -15.1562657310011  delta_E= -0.0002  |g|= 0.00119  |ddm|= 0.0564\n",
            "  HOMO = -0.225140228069389  LUMO = 0.0917982027675005\n",
            "cycle= 5 E= -15.1562619276313  delta_E= 3.8e-06  |g|= 0.00226  |ddm|= 0.00377\n",
            "  HOMO = -0.221641684121573  LUMO = 0.0899710278070175\n",
            "cycle= 6 E= -15.1562671842128  delta_E= -5.26e-06  |g|= 5.15e-06  |ddm|= 0.00795\n",
            "  HOMO = -0.221648568311024  LUMO = 0.0899750585229207\n",
            "cycle= 7 E= -15.1562671842399  delta_E= -2.71e-11  |g|= 6.84e-07  |ddm|= 1.59e-05\n",
            "  HOMO = -0.221649556747357  LUMO = 0.0899756089593862\n",
            "Extra cycle  E= -15.1562671842404  delta_E= -4.05e-13  |g|= 2.61e-07  |ddm|= 2e-06\n",
            "converged SCF energy = -15.1562671842404\n"
          ]
        },
        {
          "output_type": "execute_result",
          "data": {
            "text/plain": [
              "RHF object of <class 'pyscf.scf.hf.RHF'>"
            ]
          },
          "metadata": {},
          "execution_count": 68
        }
      ],
      "source": [
        "#h_f = scf.RHF(mol).run()\n",
        "\n",
        "h_f = scf.RHF(mol)\n",
        "h_f.max_cycle = 250\n",
        "\n",
        "#h_f.conv_tol = 1e-03\n",
        "\n",
        "#from pyscf.scf.hf import init_guess_by_1e\n",
        "#h_f.run(init_guess_by_1e(mol=mol))\n",
        "\n",
        "h_f.run()\n",
        "\n",
        "# https://github.com/qulacs/Quantaggle_dataset/blob/master/competitions/GS-PES/competition_GS-PES.csv\n",
        "# fci_energy_lowest: -15.595246750703826"
      ]
    },
    {
      "cell_type": "code",
      "execution_count": null,
      "id": "dfe27f19-bb0c-4d8e-a435-a947283f0fc3",
      "metadata": {
        "id": "dfe27f19-bb0c-4d8e-a435-a947283f0fc3"
      },
      "outputs": [],
      "source": [
        "params_history = []\n",
        "def callback(xk):\n",
        "    return params_history.append(xk)"
      ]
    },
    {
      "cell_type": "code",
      "execution_count": null,
      "id": "7feb4cb3-c044-4e6d-8c35-e7295e091a39",
      "metadata": {
        "colab": {
          "base_uri": "https://localhost:8080/"
        },
        "id": "7feb4cb3-c044-4e6d-8c35-e7295e091a39",
        "outputId": "438396d7-2d8c-4c20-a689-7a4ac1f46f67"
      },
      "outputs": [
        {
          "output_type": "stream",
          "name": "stdout",
          "text": [
            "\n",
            "******** <class 'pyscf.mcscf.mc1step.CASSCF'> ********\n",
            "CAS (1e+1e, 2o), ncore = 2, nvir = 3\n",
            "max_cycle_macro = 50\n",
            "max_cycle_micro = 4\n",
            "conv_tol = 1e-07\n",
            "conv_tol_grad = None\n",
            "orbital rotation max_stepsize = 0.02\n",
            "orbital rotation threshold for CI restart = 0.01\n",
            "augmented hessian ah_max_cycle = 30\n",
            "augmented hessian ah_conv_tol = 1e-12\n",
            "augmented hessian ah_linear dependence = 1e-14\n",
            "augmented hessian ah_level shift = 1e-08\n",
            "augmented hessian ah_start_tol = 2.5\n",
            "augmented hessian ah_start_cycle = 3\n",
            "augmented hessian ah_grad_trust_region = 3\n",
            "kf_trust_region = 3\n",
            "kf_interval = 4\n",
            "ci_response_space = 4\n",
            "ci_grad_trust_region = 3\n",
            "with_dep4 0\n",
            "natorb = False\n",
            "canonicalization = True\n",
            "sorting_mo_energy = False\n",
            "ao2mo_level = 2\n",
            "chkfile = /content/tmpevrbjnxk\n",
            "max_memory 4000 MB (current use 361 MB)\n",
            "internal_rotation = False\n",
            "CASCI E = -15.5610904914106\n",
            "Set conv_tol_grad to 0.000316228\n",
            "macro iter 1 (3 JK  1 micro), CASSCF E = -15.5610906187054  dE = -1.2729481e-07\n",
            "               |grad[o]|=0.000541  |ddm|=9.73e-07  |maxRot[o]|=0.000232\n",
            "macro iter 2 (1 JK  1 micro), CASSCF E = -15.5610906187054  dE = 0\n",
            "               |grad[o]|=2.41e-07  |ddm|=    0  |maxRot[o]|=    0\n",
            "1-step CASSCF converged in 2 macro (4 JK 2 micro) steps\n",
            "CASSCF canonicalization\n",
            "Density matrix diagonal elements [1.99923432e+00 7.65679642e-04]\n",
            "CASSCF energy = -15.5610906187054\n",
            "CASCI E = -15.5610906187054  E(CI) = -1.28571819930908\n"
          ]
        },
        {
          "output_type": "execute_result",
          "data": {
            "text/plain": [
              "<pyscf.mcscf.mc1step.CASSCF at 0x7f53cf3408b0>"
            ]
          },
          "metadata": {},
          "execution_count": 64
        }
      ],
      "source": [
        "#  the post-HF method to further improve our solution to the Schrödinger equation\n",
        "cas = mcscf.CASSCF(h_f, 2, 2)\n",
        "\n",
        "estimator = Estimator()\n",
        "\n",
        "# To check\n",
        "# https://github.com/Qiskit/qiskit-nature/issues/342\n",
        "#quantum_instance = QuantumInstance(backend = Aer.get_backend('aer_simulator_statevector'))\n",
        "#vqe = VQEUCCFactory(quantum_instance, UCCSD(), SLSQP(callback=callback)) #L_BFGS_B()) #\n",
        "\n",
        "#vqe = VQEUCCFactory(estimator, UCCSD(), SLSQP(callback=callback)) #L_BFGS_B()) #\n",
        "vqe = VQEUCCFactory(estimator, UCCSD(), L_BFGS_B(callback=callback)) #L_BFGS_B()) #\n",
        "\n",
        "converter = QubitConverter(ParityMapper(), two_qubit_reduction=True, z2symmetry_reduction=None)\n",
        "#converter = QubitConverter(JordanWignerMapper(), z2symmetry_reduction=\"auto\")\n",
        "\n",
        "algorithm = GroundStateEigensolver(converter, vqe)\n",
        "\n",
        "cas.fcisolver = QiskitSolver(algorithm)\n",
        "\n",
        "cas.run()"
      ]
    },
    {
      "cell_type": "code",
      "source": [
        "params_history[-1]"
      ],
      "metadata": {
        "colab": {
          "base_uri": "https://localhost:8080/"
        },
        "id": "x_AYTctC6GW3",
        "outputId": "6a9e34be-0c9a-4f31-88cb-46bbcced2a90"
      },
      "id": "x_AYTctC6GW3",
      "execution_count": null,
      "outputs": [
        {
          "output_type": "execute_result",
          "data": {
            "text/plain": [
              "array([-0.00737238, -0.00727464, -0.1282167 , -0.12929083])"
            ]
          },
          "metadata": {},
          "execution_count": 44
        }
      ]
    }
  ],
  "metadata": {
    "kernelspec": {
      "display_name": "Python 3 [Qiskit]",
      "language": "python",
      "name": "python3_qiskit_9y9siy"
    },
    "language_info": {
      "codemirror_mode": {
        "name": "ipython",
        "version": 3
      },
      "file_extension": ".py",
      "mimetype": "text/x-python",
      "name": "python",
      "nbconvert_exporter": "python",
      "pygments_lexer": "ipython3",
      "version": "3.9.10"
    },
    "colab": {
      "provenance": []
    }
  },
  "nbformat": 4,
  "nbformat_minor": 5
}