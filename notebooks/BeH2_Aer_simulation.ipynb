{
  "nbformat": 4,
  "nbformat_minor": 0,
  "metadata": {
    "colab": {
      "provenance": []
    },
    "kernelspec": {
      "name": "python3",
      "display_name": "Python 3"
    },
    "language_info": {
      "name": "python"
    }
  },
  "cells": [
    {
      "cell_type": "code",
      "source": [
        "# Required by Google Colab\n",
        "!pip install qiskit qiskit_nature pyscf --quiet"
      ],
      "metadata": {
        "colab": {
          "base_uri": "https://localhost:8080/"
        },
        "id": "2heK3P0DzbW1",
        "outputId": "4dba2a69-5a69-419a-bb92-640e6e059d44"
      },
      "execution_count": 8,
      "outputs": [
        {
          "output_type": "stream",
          "name": "stdout",
          "text": [
            "\u001b[2K     \u001b[90m━━━━━━━━━━━━━━━━━━━━━━━━━━━━━━━━━━━━━━━━\u001b[0m \u001b[32m38.2/38.2 MB\u001b[0m \u001b[31m33.6 MB/s\u001b[0m eta \u001b[36m0:00:00\u001b[0m\n",
            "\u001b[?25h"
          ]
        }
      ]
    },
    {
      "cell_type": "markdown",
      "source": [
        "### Define electronic molecule of $BeH_{2}$"
      ],
      "metadata": {
        "id": "fyqYy2KgzJ0E"
      }
    },
    {
      "cell_type": "code",
      "source": [
        "import time\n",
        "from qiskit_nature.drivers import UnitsType, Molecule\n",
        "from qiskit_nature.drivers.second_quantization import ElectronicStructureDriverType, ElectronicStructureMoleculeDriver\n",
        "from qiskit_nature.problems.second_quantization import ElectronicStructureProblem\n",
        "from qiskit_nature.converters.second_quantization import QubitConverter\n",
        "from qiskit_nature.mappers.second_quantization import JordanWignerMapper, ParityMapper\n",
        "from qiskit_nature.transformers.second_quantization.electronic import FreezeCoreTransformer\n",
        "\n",
        "# Define molecule BeH2\n",
        "distance = 1.7\n",
        "molecule = Molecule(geometry=[['H', [0., 0., -distance]],\n",
        "                              ['Be', [0., 0., 0.]],\n",
        "                              ['H', [0., 0., distance]],\n",
        "                              ], charge=0, multiplicity=1)\n",
        "\n",
        "# set up a PySCF driver at bondlength 1.7 Angstrom (distance)\n",
        "driver = ElectronicStructureMoleculeDriver(molecule, basis='sto3g', driver_type=ElectronicStructureDriverType.PYSCF)\n",
        "\n",
        "freezeCoreTransformer = FreezeCoreTransformer(True)\n",
        "problem = ElectronicStructureProblem(driver, transformers=[freezeCoreTransformer])\n",
        "\n",
        "# JordanWignerMapper()\n",
        "mapper = ParityMapper()\n",
        "\n",
        "qubit_converter = QubitConverter(mapper, two_qubit_reduction=True, z2symmetry_reduction='auto')"
      ],
      "metadata": {
        "id": "0UeuB4SrY-jK"
      },
      "execution_count": 5,
      "outputs": []
    },
    {
      "cell_type": "markdown",
      "source": [
        "### VQE"
      ],
      "metadata": {
        "id": "YBZZhJt8zHLO"
      }
    },
    {
      "cell_type": "code",
      "source": [
        "%%time\n",
        "from qiskit_nature.algorithms import GroundStateEigensolver\n",
        "from qiskit import Aer\n",
        "from qiskit.utils import QuantumInstance\n",
        "from qiskit.algorithms.optimizers import SLSQP\n",
        "from qiskit_nature.algorithms import VQEUCCFactory\n",
        "\n",
        "params_history = []\n",
        "def callback(xk):\n",
        "    return params_history.append(xk)\n",
        "\n",
        "optimizer = SLSQP(maxiter=50, callback=callback)\n",
        "backend_name = 'aer_simulator_statevector' # Wall time: maxiter=1 -> 7.77 s, maxiter=50 -> 16.9 s\n",
        "quantum_instance = QuantumInstance(backend = Aer.get_backend(backend_name))\n",
        "solver = VQEUCCFactory(quantum_instance,optimizer=optimizer)\n",
        "gs_solver = GroundStateEigensolver(qubit_converter, solver)\n",
        "result = gs_solver.solve(problem)\n",
        "print(result)"
      ],
      "metadata": {
        "colab": {
          "base_uri": "https://localhost:8080/"
        },
        "id": "dR35yIGrzFrd",
        "outputId": "0def531a-38b8-4d2e-8b70-653b8e29864a"
      },
      "execution_count": 11,
      "outputs": [
        {
          "output_type": "stream",
          "name": "stderr",
          "text": [
            "<timed exec>:14: DeprecationWarning: VQEUCCFactory Constructor: quantum_instance is no longer a positional argument as of version 0.4 and will be removed no sooner than 3 months after the release. Instead use it as a keyword argument\n"
          ]
        },
        {
          "output_type": "stream",
          "name": "stdout",
          "text": [
            "=== GROUND STATE ENERGY ===\n",
            " \n",
            "* Electronic ground state energy (Hartree): -18.173645693686\n",
            "  - computed part:      -3.488773764541\n",
            "  - FreezeCoreTransformer extracted energy part: -14.684871929146\n",
            "~ Nuclear repulsion energy (Hartree): 2.6458860546\n",
            "> Total ground state energy (Hartree): -15.527759639086\n",
            " \n",
            "=== MEASURED OBSERVABLES ===\n",
            " \n",
            "  0:  # Particles: 4.000 S: 0.000 S^2: 0.000 M: -0.000\n",
            " \n",
            "=== DIPOLE MOMENTS ===\n",
            " \n",
            "~ Nuclear dipole moment (a.u.): [0.0  0.0  0.0]\n",
            " \n",
            "  0: \n",
            "  * Electronic dipole moment (a.u.): [None  None  None]\n",
            "    - computed part:      [None  None  None]\n",
            "    - FreezeCoreTransformer extracted energy part: [0.0  0.0  0.0]\n",
            "  > Dipole moment (a.u.): [None  None  None]  Total: None\n",
            "                 (debye): [None  None  None]  Total: None\n",
            " \n",
            "CPU times: user 15 s, sys: 4.11 s, total: 19.1 s\n",
            "Wall time: 16.9 s\n"
          ]
        }
      ]
    }
  ]
}