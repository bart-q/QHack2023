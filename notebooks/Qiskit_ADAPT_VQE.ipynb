{
  "nbformat": 4,
  "nbformat_minor": 0,
  "metadata": {
    "colab": {
      "provenance": []
    },
    "kernelspec": {
      "name": "python3",
      "display_name": "Python 3"
    },
    "language_info": {
      "name": "python"
    }
  },
  "cells": [
    {
      "cell_type": "markdown",
      "source": [
        "[How to use the AdaptVQE](https://qiskit.org/documentation/nature/howtos/adapt_vqe.html)"
      ],
      "metadata": {
        "id": "zDKPgLBls3uq"
      }
    },
    {
      "cell_type": "code",
      "execution_count": 10,
      "metadata": {
        "id": "XUZFrbfNszbH"
      },
      "outputs": [],
      "source": [
        "!pip install qiskit qiskit_nature pyscf --quiet"
      ]
    },
    {
      "cell_type": "code",
      "source": [
        "#driver = PySCFDriver(atom=\"H 0 0 0; H 0 0 0.735\", basis=\"sto-3g\")\n",
        "#driver = PySCFDriver(atom=\"Be 0 0 0; H 0 0 -1.7; H 0 0 1.7\", basis=\"sto-3g\")\n",
        "#problem = driver.run()"
      ],
      "metadata": {
        "id": "k96aglQNvmfB"
      },
      "execution_count": null,
      "outputs": []
    },
    {
      "cell_type": "code",
      "source": [
        "from qiskit_nature.second_q.drivers import PySCFDriver\n",
        "from qiskit_nature.drivers import Molecule\n",
        "from qiskit_nature.drivers.second_quantization import ElectronicStructureDriverType, ElectronicStructureMoleculeDriver\n",
        "\n",
        "# Constructing BeH2\n",
        "distance = 1.7\n",
        "beh2 = [[\"Be\", [ 0.0,    0.0,    0.0]], \n",
        "        [\"H\", [ 0.0,    0.0,   -distance]],\n",
        "        [\"H\", [ 0.0,    0.0,   distance]]]\n",
        "\n",
        "molecule = Molecule(geometry=beh2,\n",
        "                            charge=0, \n",
        "                            multiplicity=1) # This is an example for LiH with bond distance of 2.5 Angstroms, neutral charge, spin multiplicity of 1\n",
        "driver = ElectronicStructureMoleculeDriver(molecule, basis='sto3g', driver_type=ElectronicStructureDriverType.PYSCF) # This is an example of using STO-3G basis set, and performing preliminary Quantum Chemistry calculation using PySCF\n",
        "\n",
        "# Run the preliminary quantum chemistry calculation\n",
        "problem = driver.run()"
      ],
      "metadata": {
        "id": "o-FeGwars981"
      },
      "execution_count": 5,
      "outputs": []
    },
    {
      "cell_type": "code",
      "source": [
        "from qiskit_nature.second_q.mappers import JordanWignerMapper, QubitConverter, ParityMapper\n",
        "#converter = QubitConverter(JordanWignerMapper())\n",
        "\n",
        "from qiskit_nature.transformers.second_quantization.electronic import ActiveSpaceTransformer, FreezeCoreTransformer\n",
        "from qiskit_nature.problems.second_quantization.electronic import ElectronicStructureProblem\n",
        "\n",
        "freezeCoreTransformer = FreezeCoreTransformer(True,remove_orbitals=[3,4])\n",
        "problem_reduced = ElectronicStructureProblem(driver, transformers=[freezeCoreTransformer])\n",
        "second_q_ops_reduced = problem_reduced.second_q_ops()\n",
        "parity_mapper = ParityMapper() # This is the example of parity mapping\n",
        "\n",
        "# Set the qubit converter with two qubit reduction to reduce the computational cost \n",
        "parity_converter = QubitConverter(parity_mapper, two_qubit_reduction=True)\n",
        "qubit_op_parity = parity_converter.convert(second_q_ops_reduced.get('ElectronicEnergy'), num_particles=problem_reduced.num_particles)"
      ],
      "metadata": {
        "id": "zF91jSGRtF3S"
      },
      "execution_count": 7,
      "outputs": []
    },
    {
      "cell_type": "code",
      "source": [
        "from qiskit_nature.second_q.circuit.library import UCCSD, HartreeFock\n",
        "from qiskit.circuit.library.evolved_operator_ansatz import EvolvedOperatorAnsatz\n",
        "\n",
        "ansatz = UCCSD()\n",
        "ansatz.num_particles = problem_reduced.num_particles\n",
        "#ansatz.num_spatial_orbitals = problem_reduced.num_spatial_orbitals\n",
        "ansatz.num_spatial_orbitals = problem_reduced.num_spin_orbitals\n",
        "ansatz.qubit_converter = parity_converter\n",
        "# reduced initial state\n",
        "initial_state = HartreeFock(num_particles=problem_reduced.num_particles, num_spatial_orbitals=problem_reduced.num_spin_orbitals, qubit_converter=parity_converter)\n",
        "#print(initial_state)\n",
        "initial_state.num_particles = problem_reduced.num_particles\n",
        "#initial_state.num_spatial_orbitals = problem_reduced.num_spatial_orbitals\n",
        "initial_state.num_spatial_orbitals = problem_reduced.num_spin_orbitals\n",
        "initial_state.qubit_converter = parity_converter\n",
        "ansatz.initial_state = initial_state"
      ],
      "metadata": {
        "id": "SUkjtSnKtIh0"
      },
      "execution_count": 9,
      "outputs": []
    },
    {
      "cell_type": "code",
      "source": [
        "#import qiskit.quantum_info as qi\n",
        "# Too memory demanding\n",
        "#operators = qi.Operator.from_circuit(ansatz)"
      ],
      "metadata": {
        "id": "5CsFV52c5Cur"
      },
      "execution_count": null,
      "outputs": []
    },
    {
      "cell_type": "code",
      "source": [
        "# EvolvedOperatorAnsatz(operators=None, reps=1, evolution=None, insert_barriers=False, name='EvolvedOps', parameter_prefix='t', initial_state=None)\n",
        "#ansatz_adapt = EvolvedOperatorAnsatz(operators=operators, reps=1, evolution=None)"
      ],
      "metadata": {
        "id": "w7l7VM5g1-_x"
      },
      "execution_count": null,
      "outputs": []
    },
    {
      "cell_type": "code",
      "source": [
        "import numpy as np\n",
        "from qiskit.algorithms.optimizers import SLSQP\n",
        "from qiskit.algorithms.minimum_eigensolvers import VQE\n",
        "from qiskit.primitives import Estimator\n",
        "from qiskit_aer.primitives import Estimator as Aer_Estimator\n",
        "from IPython.display import clear_output\n",
        "\n",
        "ansatz_adapt = ansatz\n",
        "\n",
        "estimator = Aer_Estimator([ansatz_adapt], [qubit_op_parity.primitive], backend_options={'method':'statevector'}, run_options={'shots':None}, approximation=True)\n",
        "\n",
        "#vqe = VQE(Estimator(), ansatz, SLSQP())\n",
        "vqe = VQE(estimator, ansatz_adapt, SLSQP())\n",
        "vqe.initial_point = np.zeros(ansatz_adapt.num_parameters)"
      ],
      "metadata": {
        "id": "4yEV12IatMpn"
      },
      "execution_count": 10,
      "outputs": []
    },
    {
      "cell_type": "code",
      "source": [
        "from qiskit.algorithms.minimum_eigensolvers import AdaptVQE\n",
        "adapt_vqe = AdaptVQE(vqe)\n",
        "adapt_vqe.supports_aux_operators = lambda: True  # temporary fix"
      ],
      "metadata": {
        "id": "6nvTTwCvtUvE"
      },
      "execution_count": 11,
      "outputs": []
    },
    {
      "cell_type": "code",
      "source": [
        "#from qiskit_nature.second_q.algorithms import GroundStateEigensolver\n",
        "from qiskit_nature.algorithms import GroundStateEigensolver\n",
        "solver = GroundStateEigensolver(parity_converter, adapt_vqe)"
      ],
      "metadata": {
        "id": "vM0G068RtXwM",
        "colab": {
          "base_uri": "https://localhost:8080/"
        },
        "outputId": "9fa4adc9-5fa4-480f-cd25-6f6e1fd25667"
      },
      "execution_count": 12,
      "outputs": [
        {
          "output_type": "stream",
          "name": "stderr",
          "text": [
            "<ipython-input-12-02e9de74ed98>:2: NatureDeprecationWarning: The qiskit_nature.algorithms.excited_state_solvers package is deprecated as of version 0.5.0 and will be removed no sooner than 3 months after the release. Instead use the qiskit_nature.second_q.algorithms.excited_state_solvers package.\n",
            "  from qiskit_nature.algorithms import GroundStateEigensolver\n",
            "<ipython-input-12-02e9de74ed98>:2: NatureDeprecationWarning: The qiskit_nature.algorithms.pes_sampler package is deprecated as of version 0.5.0 and will be removed no sooner than 3 months after the release . Please refer to 'https://github.com/Qiskit/qiskit-nature/issues/750' for additional information regarding 'extrapolators'.\n",
            "  from qiskit_nature.algorithms import GroundStateEigensolver\n",
            "<ipython-input-12-02e9de74ed98>:3: NatureDeprecationWarning: The qiskit_nature.algorithms.ground_state_solvers.GroundStateEigensolver class is deprecated as of version 0.5.0 and will be removed no sooner than 3 months after the release. Instead use the qiskit_nature.second_q.algorithms.ground_state_solvers.GroundStateEigensolver class.\n",
            "  solver = GroundStateEigensolver(parity_converter, adapt_vqe)\n"
          ]
        }
      ]
    },
    {
      "cell_type": "code",
      "source": [
        "result = solver.solve(problem_reduced)"
      ],
      "metadata": {
        "colab": {
          "base_uri": "https://localhost:8080/",
          "height": 433
        },
        "id": "eeW30AiNtZ6c",
        "outputId": "5f4ba901-bb38-4adb-8f72-91a0e8ac7e6d"
      },
      "execution_count": 13,
      "outputs": [
        {
          "output_type": "error",
          "ename": "AlgorithmError",
          "evalue": "ignored",
          "traceback": [
            "\u001b[0;31m---------------------------------------------------------------------------\u001b[0m",
            "\u001b[0;31mExtensionError\u001b[0m                            Traceback (most recent call last)",
            "\u001b[0;32m/usr/local/lib/python3.8/dist-packages/qiskit/algorithms/observables_evaluator.py\u001b[0m in \u001b[0;36mestimate_observables\u001b[0;34m(estimator, quantum_state, observables, parameter_values, threshold)\u001b[0m\n\u001b[1;32m     69\u001b[0m             \u001b[0mestimator_job\u001b[0m \u001b[0;34m=\u001b[0m \u001b[0mestimator\u001b[0m\u001b[0;34m.\u001b[0m\u001b[0mrun\u001b[0m\u001b[0;34m(\u001b[0m\u001b[0mquantum_state\u001b[0m\u001b[0;34m,\u001b[0m \u001b[0mobservables_list\u001b[0m\u001b[0;34m,\u001b[0m \u001b[0mparameter_values\u001b[0m\u001b[0;34m)\u001b[0m\u001b[0;34m\u001b[0m\u001b[0;34m\u001b[0m\u001b[0m\n\u001b[0;32m---> 70\u001b[0;31m             \u001b[0mexpectation_values\u001b[0m \u001b[0;34m=\u001b[0m \u001b[0mestimator_job\u001b[0m\u001b[0;34m.\u001b[0m\u001b[0mresult\u001b[0m\u001b[0;34m(\u001b[0m\u001b[0;34m)\u001b[0m\u001b[0;34m.\u001b[0m\u001b[0mvalues\u001b[0m\u001b[0;34m\u001b[0m\u001b[0;34m\u001b[0m\u001b[0m\n\u001b[0m\u001b[1;32m     71\u001b[0m         \u001b[0;32mexcept\u001b[0m \u001b[0mException\u001b[0m \u001b[0;32mas\u001b[0m \u001b[0mexc\u001b[0m\u001b[0;34m:\u001b[0m\u001b[0;34m\u001b[0m\u001b[0;34m\u001b[0m\u001b[0m\n",
            "\u001b[0;32m/usr/local/lib/python3.8/dist-packages/qiskit/primitives/primitive_job.py\u001b[0m in \u001b[0;36mresult\u001b[0;34m(self)\u001b[0m\n\u001b[1;32m     49\u001b[0m         \u001b[0mself\u001b[0m\u001b[0;34m.\u001b[0m\u001b[0m_check_submitted\u001b[0m\u001b[0;34m(\u001b[0m\u001b[0;34m)\u001b[0m\u001b[0;34m\u001b[0m\u001b[0;34m\u001b[0m\u001b[0m\n\u001b[0;32m---> 50\u001b[0;31m         \u001b[0;32mreturn\u001b[0m \u001b[0mself\u001b[0m\u001b[0;34m.\u001b[0m\u001b[0m_future\u001b[0m\u001b[0;34m.\u001b[0m\u001b[0mresult\u001b[0m\u001b[0;34m(\u001b[0m\u001b[0;34m)\u001b[0m\u001b[0;34m\u001b[0m\u001b[0;34m\u001b[0m\u001b[0m\n\u001b[0m\u001b[1;32m     51\u001b[0m \u001b[0;34m\u001b[0m\u001b[0m\n",
            "\u001b[0;32m/usr/lib/python3.8/concurrent/futures/_base.py\u001b[0m in \u001b[0;36mresult\u001b[0;34m(self, timeout)\u001b[0m\n\u001b[1;32m    436\u001b[0m                 \u001b[0;32melif\u001b[0m \u001b[0mself\u001b[0m\u001b[0;34m.\u001b[0m\u001b[0m_state\u001b[0m \u001b[0;34m==\u001b[0m \u001b[0mFINISHED\u001b[0m\u001b[0;34m:\u001b[0m\u001b[0;34m\u001b[0m\u001b[0;34m\u001b[0m\u001b[0m\n\u001b[0;32m--> 437\u001b[0;31m                     \u001b[0;32mreturn\u001b[0m \u001b[0mself\u001b[0m\u001b[0;34m.\u001b[0m\u001b[0m__get_result\u001b[0m\u001b[0;34m(\u001b[0m\u001b[0;34m)\u001b[0m\u001b[0;34m\u001b[0m\u001b[0;34m\u001b[0m\u001b[0m\n\u001b[0m\u001b[1;32m    438\u001b[0m \u001b[0;34m\u001b[0m\u001b[0m\n",
            "\u001b[0;32m/usr/lib/python3.8/concurrent/futures/_base.py\u001b[0m in \u001b[0;36m__get_result\u001b[0;34m(self)\u001b[0m\n\u001b[1;32m    388\u001b[0m             \u001b[0;32mtry\u001b[0m\u001b[0;34m:\u001b[0m\u001b[0;34m\u001b[0m\u001b[0;34m\u001b[0m\u001b[0m\n\u001b[0;32m--> 389\u001b[0;31m                 \u001b[0;32mraise\u001b[0m \u001b[0mself\u001b[0m\u001b[0;34m.\u001b[0m\u001b[0m_exception\u001b[0m\u001b[0;34m\u001b[0m\u001b[0;34m\u001b[0m\u001b[0m\n\u001b[0m\u001b[1;32m    390\u001b[0m             \u001b[0;32mfinally\u001b[0m\u001b[0;34m:\u001b[0m\u001b[0;34m\u001b[0m\u001b[0;34m\u001b[0m\u001b[0m\n",
            "\u001b[0;32m/usr/lib/python3.8/concurrent/futures/thread.py\u001b[0m in \u001b[0;36mrun\u001b[0;34m(self)\u001b[0m\n\u001b[1;32m     56\u001b[0m         \u001b[0;32mtry\u001b[0m\u001b[0;34m:\u001b[0m\u001b[0;34m\u001b[0m\u001b[0;34m\u001b[0m\u001b[0m\n\u001b[0;32m---> 57\u001b[0;31m             \u001b[0mresult\u001b[0m \u001b[0;34m=\u001b[0m \u001b[0mself\u001b[0m\u001b[0;34m.\u001b[0m\u001b[0mfn\u001b[0m\u001b[0;34m(\u001b[0m\u001b[0;34m*\u001b[0m\u001b[0mself\u001b[0m\u001b[0;34m.\u001b[0m\u001b[0margs\u001b[0m\u001b[0;34m,\u001b[0m \u001b[0;34m**\u001b[0m\u001b[0mself\u001b[0m\u001b[0;34m.\u001b[0m\u001b[0mkwargs\u001b[0m\u001b[0;34m)\u001b[0m\u001b[0;34m\u001b[0m\u001b[0;34m\u001b[0m\u001b[0m\n\u001b[0m\u001b[1;32m     58\u001b[0m         \u001b[0;32mexcept\u001b[0m \u001b[0mBaseException\u001b[0m \u001b[0;32mas\u001b[0m \u001b[0mexc\u001b[0m\u001b[0;34m:\u001b[0m\u001b[0;34m\u001b[0m\u001b[0;34m\u001b[0m\u001b[0m\n",
            "\u001b[0;32m/usr/local/lib/python3.8/dist-packages/qiskit_aer/primitives/estimator.py\u001b[0m in \u001b[0;36m_call\u001b[0;34m(self, circuits, observables, parameter_values, **run_options)\u001b[0m\n\u001b[1;32m    134\u001b[0m         \u001b[0;32mif\u001b[0m \u001b[0mself\u001b[0m\u001b[0;34m.\u001b[0m\u001b[0mapproximation\u001b[0m\u001b[0;34m:\u001b[0m\u001b[0;34m\u001b[0m\u001b[0;34m\u001b[0m\u001b[0m\n\u001b[0;32m--> 135\u001b[0;31m             return self._compute_with_approximation(\n\u001b[0m\u001b[1;32m    136\u001b[0m                 \u001b[0mcircuits\u001b[0m\u001b[0;34m,\u001b[0m \u001b[0mobservables\u001b[0m\u001b[0;34m,\u001b[0m \u001b[0mparameter_values\u001b[0m\u001b[0;34m,\u001b[0m \u001b[0mrun_options\u001b[0m\u001b[0;34m,\u001b[0m \u001b[0mseed\u001b[0m\u001b[0;34m\u001b[0m\u001b[0;34m\u001b[0m\u001b[0m\n",
            "\u001b[0;32m/usr/local/lib/python3.8/dist-packages/qiskit_aer/primitives/estimator.py\u001b[0m in \u001b[0;36m_compute_with_approximation\u001b[0;34m(self, circuits, observables, parameter_values, run_options, seed)\u001b[0m\n\u001b[1;32m    291\u001b[0m                 \u001b[0;32mif\u001b[0m \u001b[0mshots\u001b[0m \u001b[0;32mis\u001b[0m \u001b[0;32mNone\u001b[0m\u001b[0;34m:\u001b[0m\u001b[0;34m\u001b[0m\u001b[0;34m\u001b[0m\u001b[0m\n\u001b[0;32m--> 292\u001b[0;31m                     \u001b[0mcircuit\u001b[0m\u001b[0;34m.\u001b[0m\u001b[0msave_expectation_value\u001b[0m\u001b[0;34m(\u001b[0m\u001b[0mobservable\u001b[0m\u001b[0;34m,\u001b[0m \u001b[0mself\u001b[0m\u001b[0;34m.\u001b[0m\u001b[0m_layouts\u001b[0m\u001b[0;34m[\u001b[0m\u001b[0mi\u001b[0m\u001b[0;34m]\u001b[0m\u001b[0;34m)\u001b[0m\u001b[0;34m\u001b[0m\u001b[0;34m\u001b[0m\u001b[0m\n\u001b[0m\u001b[1;32m    293\u001b[0m                 \u001b[0;32melse\u001b[0m\u001b[0;34m:\u001b[0m\u001b[0;34m\u001b[0m\u001b[0;34m\u001b[0m\u001b[0m\n",
            "\u001b[0;32m/usr/local/lib/python3.8/dist-packages/qiskit_aer/library/save_instructions/save_expectation_value.py\u001b[0m in \u001b[0;36msave_expectation_value\u001b[0;34m(self, operator, qubits, label, unnormalized, pershot, conditional)\u001b[0m\n\u001b[1;32m    190\u001b[0m     \"\"\"\n\u001b[0;32m--> 191\u001b[0;31m     instr = SaveExpectationValue(operator,\n\u001b[0m\u001b[1;32m    192\u001b[0m                                  \u001b[0mlabel\u001b[0m\u001b[0;34m=\u001b[0m\u001b[0mlabel\u001b[0m\u001b[0;34m,\u001b[0m\u001b[0;34m\u001b[0m\u001b[0;34m\u001b[0m\u001b[0m\n",
            "\u001b[0;32m/usr/local/lib/python3.8/dist-packages/qiskit_aer/library/save_instructions/save_expectation_value.py\u001b[0m in \u001b[0;36m__init__\u001b[0;34m(self, operator, label, unnormalized, pershot, conditional)\u001b[0m\n\u001b[1;32m     63\u001b[0m         \u001b[0;32mif\u001b[0m \u001b[0;32mnot\u001b[0m \u001b[0mallclose\u001b[0m\u001b[0;34m(\u001b[0m\u001b[0moperator\u001b[0m\u001b[0;34m.\u001b[0m\u001b[0mcoeffs\u001b[0m\u001b[0;34m.\u001b[0m\u001b[0mimag\u001b[0m\u001b[0;34m,\u001b[0m \u001b[0;36m0\u001b[0m\u001b[0;34m)\u001b[0m\u001b[0;34m:\u001b[0m\u001b[0;34m\u001b[0m\u001b[0;34m\u001b[0m\u001b[0m\n\u001b[0;32m---> 64\u001b[0;31m             \u001b[0;32mraise\u001b[0m \u001b[0mExtensionError\u001b[0m\u001b[0;34m(\u001b[0m\u001b[0;34m\"Input operator is not Hermitian.\"\u001b[0m\u001b[0;34m)\u001b[0m\u001b[0;34m\u001b[0m\u001b[0;34m\u001b[0m\u001b[0m\n\u001b[0m\u001b[1;32m     65\u001b[0m         \u001b[0mparams\u001b[0m \u001b[0;34m=\u001b[0m \u001b[0m_expval_params\u001b[0m\u001b[0;34m(\u001b[0m\u001b[0moperator\u001b[0m\u001b[0;34m,\u001b[0m \u001b[0mvariance\u001b[0m\u001b[0;34m=\u001b[0m\u001b[0;32mFalse\u001b[0m\u001b[0;34m)\u001b[0m\u001b[0;34m\u001b[0m\u001b[0;34m\u001b[0m\u001b[0m\n",
            "\u001b[0;31mExtensionError\u001b[0m: 'Input operator is not Hermitian.'",
            "\nThe above exception was the direct cause of the following exception:\n",
            "\u001b[0;31mAlgorithmError\u001b[0m                            Traceback (most recent call last)",
            "\u001b[0;32m<ipython-input-13-5901af745818>\u001b[0m in \u001b[0;36m<module>\u001b[0;34m\u001b[0m\n\u001b[0;32m----> 1\u001b[0;31m \u001b[0mresult\u001b[0m \u001b[0;34m=\u001b[0m \u001b[0msolver\u001b[0m\u001b[0;34m.\u001b[0m\u001b[0msolve\u001b[0m\u001b[0;34m(\u001b[0m\u001b[0mproblem_reduced\u001b[0m\u001b[0;34m)\u001b[0m\u001b[0;34m\u001b[0m\u001b[0;34m\u001b[0m\u001b[0m\n\u001b[0m",
            "\u001b[0;32m/usr/local/lib/python3.8/dist-packages/qiskit_nature/algorithms/ground_state_solvers/ground_state_eigensolver.py\u001b[0m in \u001b[0;36msolve\u001b[0;34m(self, problem, aux_operators)\u001b[0m\n\u001b[1;32m     98\u001b[0m         \"\"\"\n\u001b[1;32m     99\u001b[0m         \u001b[0mmain_operator\u001b[0m\u001b[0;34m,\u001b[0m \u001b[0maux_ops\u001b[0m \u001b[0;34m=\u001b[0m \u001b[0mself\u001b[0m\u001b[0;34m.\u001b[0m\u001b[0mget_qubit_operators\u001b[0m\u001b[0;34m(\u001b[0m\u001b[0mproblem\u001b[0m\u001b[0;34m,\u001b[0m \u001b[0maux_operators\u001b[0m\u001b[0;34m)\u001b[0m\u001b[0;34m\u001b[0m\u001b[0;34m\u001b[0m\u001b[0m\n\u001b[0;32m--> 100\u001b[0;31m         \u001b[0mraw_mes_result\u001b[0m \u001b[0;34m=\u001b[0m \u001b[0mself\u001b[0m\u001b[0;34m.\u001b[0m\u001b[0m_solver\u001b[0m\u001b[0;34m.\u001b[0m\u001b[0mcompute_minimum_eigenvalue\u001b[0m\u001b[0;34m(\u001b[0m\u001b[0mmain_operator\u001b[0m\u001b[0;34m,\u001b[0m \u001b[0maux_ops\u001b[0m\u001b[0;34m)\u001b[0m  \u001b[0;31m# type: ignore\u001b[0m\u001b[0;34m\u001b[0m\u001b[0;34m\u001b[0m\u001b[0m\n\u001b[0m\u001b[1;32m    101\u001b[0m \u001b[0;34m\u001b[0m\u001b[0m\n\u001b[1;32m    102\u001b[0m         \u001b[0mresult\u001b[0m \u001b[0;34m=\u001b[0m \u001b[0mproblem\u001b[0m\u001b[0;34m.\u001b[0m\u001b[0minterpret\u001b[0m\u001b[0;34m(\u001b[0m\u001b[0mraw_mes_result\u001b[0m\u001b[0;34m)\u001b[0m\u001b[0;34m\u001b[0m\u001b[0;34m\u001b[0m\u001b[0m\n",
            "\u001b[0;32m/usr/local/lib/python3.8/dist-packages/qiskit/algorithms/minimum_eigensolvers/adapt_vqe.py\u001b[0m in \u001b[0;36mcompute_minimum_eigenvalue\u001b[0;34m(self, operator, aux_operators)\u001b[0m\n\u001b[1;32m    219\u001b[0m             \u001b[0;31m# compute gradients\u001b[0m\u001b[0;34m\u001b[0m\u001b[0;34m\u001b[0m\u001b[0;34m\u001b[0m\u001b[0m\n\u001b[1;32m    220\u001b[0m             \u001b[0mlogger\u001b[0m\u001b[0;34m.\u001b[0m\u001b[0mdebug\u001b[0m\u001b[0;34m(\u001b[0m\u001b[0;34m\"Computing gradients\"\u001b[0m\u001b[0;34m)\u001b[0m\u001b[0;34m\u001b[0m\u001b[0;34m\u001b[0m\u001b[0m\n\u001b[0;32m--> 221\u001b[0;31m             \u001b[0mcur_grads\u001b[0m \u001b[0;34m=\u001b[0m \u001b[0mself\u001b[0m\u001b[0;34m.\u001b[0m\u001b[0m_compute_gradients\u001b[0m\u001b[0;34m(\u001b[0m\u001b[0mtheta\u001b[0m\u001b[0;34m,\u001b[0m \u001b[0moperator\u001b[0m\u001b[0;34m)\u001b[0m\u001b[0;34m\u001b[0m\u001b[0;34m\u001b[0m\u001b[0m\n\u001b[0m\u001b[1;32m    222\u001b[0m             \u001b[0;31m# pick maximum gradient\u001b[0m\u001b[0;34m\u001b[0m\u001b[0;34m\u001b[0m\u001b[0;34m\u001b[0m\u001b[0m\n\u001b[1;32m    223\u001b[0m             max_grad_index, max_grad = max(\n",
            "\u001b[0;32m/usr/local/lib/python3.8/dist-packages/qiskit/algorithms/minimum_eigensolvers/adapt_vqe.py\u001b[0m in \u001b[0;36m_compute_gradients\u001b[0;34m(self, theta, operator)\u001b[0m\n\u001b[1;32m    149\u001b[0m         \u001b[0;31m# For this commutator, we need to explicitly pull in the imaginary phase.\u001b[0m\u001b[0;34m\u001b[0m\u001b[0;34m\u001b[0m\u001b[0;34m\u001b[0m\u001b[0m\n\u001b[1;32m    150\u001b[0m         \u001b[0mcommutators\u001b[0m \u001b[0;34m=\u001b[0m \u001b[0;34m[\u001b[0m\u001b[0;36m1j\u001b[0m \u001b[0;34m*\u001b[0m \u001b[0;34m(\u001b[0m\u001b[0moperator\u001b[0m \u001b[0;34m@\u001b[0m \u001b[0mexc\u001b[0m \u001b[0;34m-\u001b[0m \u001b[0mexc\u001b[0m \u001b[0;34m@\u001b[0m \u001b[0moperator\u001b[0m\u001b[0;34m)\u001b[0m \u001b[0;32mfor\u001b[0m \u001b[0mexc\u001b[0m \u001b[0;32min\u001b[0m \u001b[0mself\u001b[0m\u001b[0;34m.\u001b[0m\u001b[0m_excitation_pool\u001b[0m\u001b[0;34m]\u001b[0m\u001b[0;34m\u001b[0m\u001b[0;34m\u001b[0m\u001b[0m\n\u001b[0;32m--> 151\u001b[0;31m         \u001b[0mres\u001b[0m \u001b[0;34m=\u001b[0m \u001b[0mestimate_observables\u001b[0m\u001b[0;34m(\u001b[0m\u001b[0mself\u001b[0m\u001b[0;34m.\u001b[0m\u001b[0msolver\u001b[0m\u001b[0;34m.\u001b[0m\u001b[0mestimator\u001b[0m\u001b[0;34m,\u001b[0m \u001b[0mself\u001b[0m\u001b[0;34m.\u001b[0m\u001b[0msolver\u001b[0m\u001b[0;34m.\u001b[0m\u001b[0mansatz\u001b[0m\u001b[0;34m,\u001b[0m \u001b[0mcommutators\u001b[0m\u001b[0;34m,\u001b[0m \u001b[0mtheta\u001b[0m\u001b[0;34m)\u001b[0m\u001b[0;34m\u001b[0m\u001b[0;34m\u001b[0m\u001b[0m\n\u001b[0m\u001b[1;32m    152\u001b[0m         \u001b[0;32mreturn\u001b[0m \u001b[0mres\u001b[0m\u001b[0;34m\u001b[0m\u001b[0;34m\u001b[0m\u001b[0m\n\u001b[1;32m    153\u001b[0m \u001b[0;34m\u001b[0m\u001b[0m\n",
            "\u001b[0;32m/usr/local/lib/python3.8/dist-packages/qiskit/algorithms/observables_evaluator.py\u001b[0m in \u001b[0;36mestimate_observables\u001b[0;34m(estimator, quantum_state, observables, parameter_values, threshold)\u001b[0m\n\u001b[1;32m     70\u001b[0m             \u001b[0mexpectation_values\u001b[0m \u001b[0;34m=\u001b[0m \u001b[0mestimator_job\u001b[0m\u001b[0;34m.\u001b[0m\u001b[0mresult\u001b[0m\u001b[0;34m(\u001b[0m\u001b[0;34m)\u001b[0m\u001b[0;34m.\u001b[0m\u001b[0mvalues\u001b[0m\u001b[0;34m\u001b[0m\u001b[0;34m\u001b[0m\u001b[0m\n\u001b[1;32m     71\u001b[0m         \u001b[0;32mexcept\u001b[0m \u001b[0mException\u001b[0m \u001b[0;32mas\u001b[0m \u001b[0mexc\u001b[0m\u001b[0;34m:\u001b[0m\u001b[0;34m\u001b[0m\u001b[0;34m\u001b[0m\u001b[0m\n\u001b[0;32m---> 72\u001b[0;31m             \u001b[0;32mraise\u001b[0m \u001b[0mAlgorithmError\u001b[0m\u001b[0;34m(\u001b[0m\u001b[0;34m\"The primitive job failed!\"\u001b[0m\u001b[0;34m)\u001b[0m \u001b[0;32mfrom\u001b[0m \u001b[0mexc\u001b[0m\u001b[0;34m\u001b[0m\u001b[0;34m\u001b[0m\u001b[0m\n\u001b[0m\u001b[1;32m     73\u001b[0m \u001b[0;34m\u001b[0m\u001b[0m\n\u001b[1;32m     74\u001b[0m         \u001b[0mmetadata\u001b[0m \u001b[0;34m=\u001b[0m \u001b[0mestimator_job\u001b[0m\u001b[0;34m.\u001b[0m\u001b[0mresult\u001b[0m\u001b[0;34m(\u001b[0m\u001b[0;34m)\u001b[0m\u001b[0;34m.\u001b[0m\u001b[0mmetadata\u001b[0m\u001b[0;34m\u001b[0m\u001b[0;34m\u001b[0m\u001b[0m\n",
            "\u001b[0;31mAlgorithmError\u001b[0m: 'The primitive job failed!'"
          ]
        }
      ]
    },
    {
      "cell_type": "code",
      "source": [
        "problem_reduced.second_q_ops()"
      ],
      "metadata": {
        "colab": {
          "base_uri": "https://localhost:8080/"
        },
        "id": "t86ylO2Dyxsf",
        "outputId": "f4c431d5-9d87-4905-b367-4d7c8663fbe9"
      },
      "execution_count": null,
      "outputs": [
        {
          "output_type": "execute_result",
          "data": {
            "text/plain": [
              "{'ParticleNumber': FermionicOp([('+_0 -_0', (1+0j)), ('+_1 -_1', (1+0j)), ('+_2 -_2', (1+0j)), ('+_3 -_3', (1+0j)), ('+_4 -_4', (1+0j)), ('+_5 -_5', (1+0j)), ('+_6 -_6', (1+0j)), ('+_7 -_7', (1+0j))], register_length=8, display_format='sparse'),\n",
              " 'ElectronicEnergy': FermionicOp([('+_0 -_0', -1.3480715508364556), ('+_0 -_2', -0.0027383488243007403), ('+_1 -_1', -1.336028870973533), ('+_1 -_3', -0.025109937603177604), ('+_2 -_0', -0.0027383488243006657), ('+_2 -_2', -1.00...)], register_length=8, display_format='sparse'),\n",
              " 'DipoleMomentX': FermionicOp([('', 0j)], register_length=8, display_format='sparse'),\n",
              " 'DipoleMomentY': FermionicOp([('', 0j)], register_length=8, display_format='sparse'),\n",
              " 'DipoleMomentZ': FermionicOp([('+_0 -_1', 2.3115856803922954), ('+_0 -_3', -0.7432755479445063), ('+_1 -_0', 2.3115856803922954), ('+_1 -_2', -1.506230493060404), ('+_2 -_1', -1.506230493060404), ('+_2 -_3', 2.00876361565950...)], register_length=8, display_format='sparse'),\n",
              " 'AngularMomentum': FermionicOp([('+_0 -_0', (0.75+0j)), ('+_1 -_1', (0.75+0j)), ('+_2 -_2', (0.75+0j)), ('+_3 -_3', (0.75+0j)), ('+_4 -_4', (0.75+0j)), ('+_5 -_5', (0.75+0j)), ('+_6 -_6', (0.75+0j)), ('+_7 -_7', (0.75+0j)), ('...)], register_length=8, display_format='sparse'),\n",
              " 'Magnetization': FermionicOp([('+_0 -_0', (0.5+0j)), ('+_1 -_1', (0.5+0j)), ('+_2 -_2', (0.5+0j)), ('+_3 -_3', (0.5+0j)), ('+_4 -_4', (-0.5+0j)), ('+_5 -_5', (-0.5+0j)), ('+_6 -_6', (-0.5+0j)), ('+_7 -_7', (-0.5+0j))], register_length=8, display_format='sparse')}"
            ]
          },
          "metadata": {},
          "execution_count": 46
        }
      ]
    },
    {
      "cell_type": "code",
      "source": [
        "print(result)"
      ],
      "metadata": {
        "id": "wCM5QsJ6tbAC"
      },
      "execution_count": null,
      "outputs": []
    }
  ]
}