{
  "cells": [
    {
      "cell_type": "markdown",
      "source": [
        "# PennyLane Gang VQE for BeH2 (in Qiskit!)"
      ],
      "metadata": {
        "id": "WDMFzKRoByZF"
      }
    },
    {
      "cell_type": "markdown",
      "source": [
        "## Imports"
      ],
      "metadata": {
        "id": "DhsDpErjBwMc"
      }
    },
    {
      "cell_type": "code",
      "execution_count": 1,
      "metadata": {
        "id": "hRttFBNWbxXT"
      },
      "outputs": [],
      "source": [
        "!pip install qiskit qiskit-nature[pyscf] pylatexenc -U --quiet"
      ]
    },
    {
      "cell_type": "code",
      "source": [
        "!pip install qiskit_ibm_runtime -U --quiet"
      ],
      "metadata": {
        "id": "I-SCGpn4Sxcc"
      },
      "execution_count": 2,
      "outputs": []
    },
    {
      "cell_type": "code",
      "execution_count": 3,
      "metadata": {
        "colab": {
          "base_uri": "https://localhost:8080/"
        },
        "id": "_Z7o4a1CdNU6",
        "outputId": "9c976897-468f-4512-c028-6a6e776860d2"
      },
      "outputs": [
        {
          "output_type": "stream",
          "name": "stdout",
          "text": [
            "Name: qiskit-nature\n",
            "Version: 0.5.2\n",
            "Summary: Qiskit Nature: A library of quantum computing chemistry/physics experiments\n",
            "Home-page: https://github.com/Qiskit/qiskit-nature\n",
            "Author: Qiskit Nature Development Team\n",
            "Author-email: hello@qiskit.org\n",
            "License: Apache-2.0\n",
            "Location: /usr/local/lib/python3.8/dist-packages\n",
            "Requires: h5py, numpy, psutil, qiskit-terra, rustworkx, scikit-learn, scipy, setuptools, typing-extensions\n",
            "Required-by: \n",
            "Name: pyscf\n",
            "Version: 2.1.1\n",
            "Summary: PySCF: Python-based Simulations of Chemistry Framework\n",
            "Home-page: http://www.pyscf.org\n",
            "Author: Qiming Sun\n",
            "Author-email: osirpt.sun@gmail.com\n",
            "License: Apache License 2.0\n",
            "Location: /usr/local/lib/python3.8/dist-packages\n",
            "Requires: h5py, numpy, scipy\n",
            "Required-by: \n"
          ]
        }
      ],
      "source": [
        "!pip show qiskit_nature \n",
        "!pip show pyscf"
      ]
    },
    {
      "cell_type": "code",
      "execution_count": 4,
      "metadata": {
        "id": "1DYp3cLPZ48p"
      },
      "outputs": [],
      "source": [
        "# Import necessary libraries and packages\n",
        "import math\n",
        "import matplotlib.pyplot as plt\n",
        "import numpy as np\n",
        "\n",
        "import warnings\n",
        "warnings.filterwarnings('ignore')\n",
        "\n",
        "from qiskit import Aer, IBMQ, QuantumCircuit\n",
        "from qiskit.primitives import Estimator, BackendEstimator\n",
        "from qiskit.providers.fake_provider import FakeManilaV2, FakeAthensV2, FakeAthens, FakeLagos\n",
        "from qiskit.providers.aer import StatevectorSimulator\n",
        "from qiskit.utils import QuantumInstance, algorithm_globals\n",
        "\n",
        "from qiskit.tools.jupyter import *\n",
        "from qiskit.visualization import *\n",
        "\n",
        "# Import Qiskit libraries for VQE\n",
        "from qiskit.algorithms import MinimumEigensolver, VQEResult, MinimumEigensolverResult, VQE\n",
        "from qiskit.algorithms.optimizers import SLSQP, SPSA, L_BFGS_B, GradientDescent\n",
        "from qiskit.circuit.library import TwoLocal, EfficientSU2\n",
        "\n",
        "# Import Qiskit Nature libraries\n",
        "from qiskit_nature.algorithms import GroundStateEigensolver, VQEUCCFactory\n",
        "from qiskit_nature.algorithms.ground_state_solvers.minimum_eigensolver_factories import NumPyMinimumEigensolverFactory\n",
        "from qiskit_nature.circuit.library import UCC, UCCSD\n",
        "from qiskit_nature.drivers import Molecule\n",
        "from qiskit_nature.drivers.second_quantization import ElectronicStructureDriverType, ElectronicStructureMoleculeDriver\n",
        "from qiskit_nature.converters.second_quantization import QubitConverter\n",
        "from qiskit_nature.mappers.second_quantization import BravyiKitaevMapper, JordanWignerMapper, ParityMapper\n",
        "from qiskit_nature.problems.second_quantization.electronic import ElectronicStructureProblem\n",
        "from qiskit_nature.transformers.second_quantization.electronic import ActiveSpaceTransformer, FreezeCoreTransformer\n",
        "\n",
        "# from qiskit_ibm_runtime import Estimator, Session, QiskitRuntimeService, Options\n",
        "\n",
        "from qiskit_aer.noise import NoiseModel\n",
        "from qiskit_aer.primitives import Estimator as Aer_Estimator\n",
        "\n",
        "from IPython.display import clear_output\n",
        "\n",
        "# Prototype-zne\n",
        "!pip install prototype-zne --quiet\n",
        "\n",
        "from qiskit_nature.settings import settings\n",
        "\n",
        "settings.dict_aux_operators = True"
      ]
    },
    {
      "cell_type": "markdown",
      "source": [
        "## Construct Problem, Molecule, and Ideal"
      ],
      "metadata": {
        "id": "Rpb6n1e_bWCE"
      }
    },
    {
      "cell_type": "code",
      "execution_count": 27,
      "metadata": {
        "id": "-MXwXT7aee_Y"
      },
      "outputs": [],
      "source": [
        "def construct_problem(geometry, charge, multiplicity, basis, num_electrons, num_molecular_orbitals):\n",
        "\n",
        "    molecule = Molecule(geometry=geometry,\n",
        "                            charge=charge, \n",
        "                            multiplicity=multiplicity) # This is an example for LiH with bond distance of 2.5 Angstroms, neutral charge, spin multiplicity of 1\n",
        "    driver = ElectronicStructureMoleculeDriver(molecule, basis=basis, driver_type=ElectronicStructureDriverType.PYSCF) # This is an example of using STO-3G basis set, and performing preliminary Quantum Chemistry calculation using PySCF\n",
        "\n",
        "    # Run the preliminary quantum chemistry calculation\n",
        "    properties = driver.run()\n",
        "\n",
        "    # Freezing lowest electron orbitals and removing inactive orbitals (found experimentally based on Kandala et al.)\n",
        "    freezeCoreTransformer = FreezeCoreTransformer(True,remove_orbitals=[3,4])\n",
        "\n",
        "    # Now you can get the reduced electronic structure problem\n",
        "    problem_reduced = ElectronicStructureProblem(driver, transformers=[freezeCoreTransformer])\n",
        "\n",
        "    # Set the mapper to qubits\n",
        "    parity_mapper = ParityMapper() # This is the example of parity mapping\n",
        "\n",
        "    # Set the qubit converter with two qubit reduction to reduce the computational cost \n",
        "    parity_converter = QubitConverter(parity_mapper, two_qubit_reduction=True)\n",
        "\n",
        "    return problem_reduced, parity_converter\n",
        "\n",
        "def construct_ideal(problem, converter):\n",
        "\n",
        "    # The second quantized Hamiltonian of the reduce problem\n",
        "    second_q_ops_reduced = problem.second_q_ops()\n",
        "\n",
        "    # Compute the Hamitonian in qubit form\n",
        "    qubit_op_parity = converter.convert(second_q_ops_reduced.get('ElectronicEnergy'), num_particles=problem.num_particles)\n",
        "   \n",
        "    # Get reference solution\n",
        "    vqe_factory = VQEUCCFactory(quantum_instance=Aer.get_backend(\"aer_simulator_statevector\"),optimizer=SLSQP(maxiter=50),\n",
        "                                ansatz=UCC(excitations='sd')\n",
        "                                ) # This is an example of UCC\"SD\" ansatz\n",
        "    solver = GroundStateEigensolver(converter, vqe_factory)    \n",
        "    vqe_ideal_solution = solver.solve(problem).total_energies[0].real \n",
        "\n",
        "    solver = NumPyMinimumEigensolverFactory()\n",
        "    calc = GroundStateEigensolver(converter, solver)\n",
        "    exact_solution = calc.solve(problem).total_energies[0].real   \n",
        "    \n",
        "    ansatz=vqe_factory.ansatz\n",
        "    return ansatz, qubit_op_parity, exact_solution, vqe_ideal_solution"
      ]
    },
    {
      "cell_type": "code",
      "execution_count": 6,
      "metadata": {
        "id": "hY2Nsgx_emVu"
      },
      "outputs": [],
      "source": [
        "import matplotlib.pyplot as plt\n",
        "\n",
        "def plot_graph(energy, real_solution, molecule, color=\"tab:blue\"):\n",
        "    \n",
        "    plt.rcParams[\"font.size\"] = 14\n",
        "\n",
        "    # plot loss and reference value\n",
        "    plt.figure(figsize=(12, 6), facecolor='white')\n",
        "    plt.plot(energy, label=\"Estimator VQE {}\".format(molecule),color = color)\n",
        "    plt.axhline(y=real_solution.real, color=\"tab:red\", ls=\"--\", label=\"Target\")\n",
        "\n",
        "    plt.legend(loc=\"best\")\n",
        "    plt.xlabel(\"Iteration\")\n",
        "    plt.ylabel(\"Energy [H]\")\n",
        "    plt.title(\"VQE energy\")\n",
        "    plt.show()"
      ]
    },
    {
      "cell_type": "code",
      "execution_count": 7,
      "metadata": {
        "id": "WR_4p1kReyrv"
      },
      "outputs": [],
      "source": [
        "# Constructing BeH2\n",
        "def get_molecule(distance):\n",
        "  return [[\"Be\", [ 0.0,    0.0,    0.0]], \n",
        "        [\"H\", [ 0.0,    0.0,   -distance]],\n",
        "        [\"H\", [ 0.0,    0.0,   distance]]]"
      ]
    },
    {
      "cell_type": "markdown",
      "metadata": {
        "id": "zeRynPfCUpVf"
      },
      "source": [
        "## Hardware efficient ansatz"
      ]
    },
    {
      "cell_type": "code",
      "execution_count": 8,
      "metadata": {
        "id": "gOGzRqnQULIj"
      },
      "outputs": [],
      "source": [
        "from qiskit.circuit import ParameterVector\n",
        "\n",
        "def create_ansatz(depth):\n",
        "  # number of qubits\n",
        "  n_qubit = 6\n",
        "\n",
        "  # number of layers\n",
        "  custom_ansatz = QuantumCircuit(n_qubit)\n",
        "  theta = ParameterVector('θ', n_qubit*depth*4)# rx +6)\n",
        "\n",
        "  for d in range(depth):\n",
        "    for i in range(n_qubit):\n",
        "      custom_ansatz.ry(theta[2*i+2*n_qubit*d], i)\n",
        "      custom_ansatz.rz(theta[2*i+1+2*n_qubit*d], i)\n",
        "    custom_ansatz.barrier()\n",
        "    for i in range(n_qubit//2):\n",
        "      custom_ansatz.cx(2*i, 2*i+1)\n",
        "    for i in range(n_qubit//2-1):\n",
        "      custom_ansatz.cx(2*i+1, 2*i+2)\n",
        "    custom_ansatz.cx(5, 0)\n",
        "    custom_ansatz.barrier()\n",
        "    for i in range(n_qubit):\n",
        "      custom_ansatz.ry(theta[2*i+2*n_qubit*depth], i)\n",
        "      custom_ansatz.rz(theta[2*i+1+2*n_qubit*depth], i)\n",
        "      #if d == 0:\n",
        "      #  custom_ansatz.rx(theta[2*i+1+2*n_qubit*depth], i)\n",
        "\n",
        "  print(\"Circuit depth:\", custom_ansatz.depth())\n",
        "  custom_ansatz.draw('mpl')\n",
        "  return custom_ansatz"
      ]
    },
    {
      "cell_type": "markdown",
      "metadata": {
        "id": "hlqmBY_95O70"
      },
      "source": [
        "## Custom VQE Class\n",
        "\n"
      ]
    },
    {
      "cell_type": "code",
      "execution_count": 9,
      "metadata": {
        "id": "gZbp_NcF6iui"
      },
      "outputs": [],
      "source": [
        "# Define a custome VQE class to orchestra the ansatz, classical optimizers, \n",
        "# initial point, callback, and final result\n",
        "class CustomVQE(MinimumEigensolver):\n",
        "\n",
        "    def __init__(self, estimator, circuit, optimizer, problem=None, callback=None, aux_operators=None):#, initial_point=None):\n",
        "        self._estimator = estimator\n",
        "        self._circuit = circuit\n",
        "        self._optimizer = optimizer\n",
        "        self._problem = problem\n",
        "        self._callback = callback\n",
        "        #self._initial_point = initial_point\n",
        "        self.params_history = []\n",
        "        \n",
        "    def compute_minimum_eigenvalue(self, operators, initial_point=None):\n",
        "\n",
        "        # Define objective function to classically minimize over\n",
        "        def objective(x):\n",
        "            # Execute job with estimator primitive\n",
        "            x = list(x)\n",
        "            job = self._estimator.run([self._circuit], [operators], [x])\n",
        "            #display(\"job: {}\".format(job.job_id()))\n",
        "            # ---\n",
        "            self.params_history.append(x)\n",
        "            # ---\n",
        "            # Get results from jobs\n",
        "            est_result = job.result()\n",
        "            # Get the measured energy value\n",
        "            value = est_result.values[0]\n",
        "            \n",
        "            sol = MinimumEigensolverResult()\n",
        "            sol.eigenvalue = value\n",
        "            sol = self._problem.interpret(sol).total_energies[0]\n",
        "\n",
        "            # Save result information using callback function\n",
        "            if self._callback is not None:\n",
        "                self._callback(np.real(sol), len(self.params_history))\n",
        "            return np.real(sol)\n",
        "\n",
        "        # Select an initial point for the ansatzs' parameters\n",
        "        #x0 = np.pi/4 * np.random.rand(self._circuit.num_parameters)\n",
        "        #x0 = [np.pi/4] * self._circuit.num_parameters\n",
        "        \n",
        "        if initial_point is None:\n",
        "            initial_point = [np.pi/4] * self._circuit.num_parameters # np.random.rand(self._circuit.num_parameters)\n",
        "        \n",
        "        #print(self._initial_point)\n",
        "        # TODO: Initial point as parameter\n",
        "        res = self._optimizer.minimize(objective, x0=initial_point)#, bounds=[-18.5,-16])#self._initial_point)\n",
        "\n",
        "        # Populate VQE result\n",
        "        result = VQEResult()\n",
        "        result.cost_function_evals = res.nfev\n",
        "        result.eigenvalue = res.fun\n",
        "        result.optimal_value = res.fun\n",
        "        result.optimal_parameters = res.x\n",
        "\n",
        "        return result, self.params_history"
      ]
    },
    {
      "cell_type": "markdown",
      "source": [
        "## Custom VQE Executor"
      ],
      "metadata": {
        "id": "6oWawL0UVsPT"
      }
    },
    {
      "cell_type": "code",
      "source": [
        "%%time\n",
        "def custom_vqe_sim(depth, problem, ops, exact_solution, noisy=False, optimizer=None, backend=FakeLagos(), options=None):\n",
        "  # VQE for BeH2\n",
        "  custom_ansatz = create_ansatz(depth)\n",
        "\n",
        "  algorithm_globals.random_seed = 1024\n",
        "  # For H2\n",
        "  if noisy:\n",
        "    estimator = BackendEstimator(backend=backend, options=options)\n",
        "    maxiter = 150\n",
        "  else:\n",
        "    estimator = Aer_Estimator([custom_ansatz], [ops.primitive], backend_options={'method':'statevector'}, run_options={'shots':None}, approximation=True)\n",
        "    maxiter = 20000\n",
        "\n",
        "  intermediate_info = []\n",
        "\n",
        "  # Define a simple callback function returning interpreted eigenvalue\n",
        "  def callback(value, iter_num):\n",
        "          # Overwrites the same line when printing\n",
        "          display(\"{}: Energy = {}\".format(iter_num, value))\n",
        "          clear_output(wait=True)\n",
        "          intermediate_info.append(value)\n",
        "\n",
        "  # Choose optimizer\n",
        "  if not optimizer:\n",
        "    optimizer = L_BFGS_B(maxfun=maxiter, ftol=2.220446049250313e-15)\n",
        "  elif optimizer.lower() == 'spsa':\n",
        "    optimizer = SPSA(maxiter=maxiter)\n",
        "  elif optimizer.lower() == 'slsqp':\n",
        "    optimizer = SLSQP(maxiter=maxiter,ftol=2.220446049250313e-15)\n",
        "  elif optimizer.lower() == 'l_bfgs_b':\n",
        "    optimizer = L_BFGS_B(maxfun=maxiter, ftol=2.220446049250313e-15)\n",
        "\n",
        "  initial_point = np.ones(custom_ansatz.num_parameters) * np.pi/4\n",
        "\n",
        "  # Setup VQE algorithm\n",
        "  custom_vqe = CustomVQE(estimator, custom_ansatz, optimizer, problem, callback=callback)\n",
        "\n",
        "  # Run the custom VQE function and monitor execution time\n",
        "  result, params_history = custom_vqe.compute_minimum_eigenvalue(ops.primitive, initial_point=initial_point)\n",
        "\n",
        "  # Plot Graph BeH2\n",
        "  diff = np.abs(intermediate_info[-1].real-exact_solution)\n",
        "  print(\"Relative error:\", np.round(diff/exact_solution*100,4), \"%\", \" = \", diff, \"Ha\")\n",
        "  plot_graph(intermediate_info, exact_solution, \"BeH2\")\n",
        "\n",
        "  print(\"Optimal parameters:\", result.optimal_parameters)\n",
        "  return intermediate_info[-1], diff"
      ],
      "metadata": {
        "colab": {
          "base_uri": "https://localhost:8080/"
        },
        "id": "sHGPM-hDS5Mz",
        "outputId": "64d58460-e973-46a0-ed40-9d805d12a458"
      },
      "execution_count": 23,
      "outputs": [
        {
          "output_type": "stream",
          "name": "stdout",
          "text": [
            "CPU times: user 1.54 ms, sys: 0 ns, total: 1.54 ms\n",
            "Wall time: 1.89 ms\n"
          ]
        }
      ]
    },
    {
      "cell_type": "markdown",
      "source": [
        "## Bond Distances"
      ],
      "metadata": {
        "id": "ygbcdWwLBmgp"
      }
    },
    {
      "cell_type": "code",
      "source": [
        "distances = [1.6, 1.7] # np.linspace(0.5, 2.0, 16)\n",
        "expected_energies = []\n",
        "uccsd_energies = []\n",
        "vqe_efficient_energies = []\n",
        "\n",
        "for dist in distances:\n",
        "  problem, converter = construct_problem(geometry=get_molecule(dist), charge=0, multiplicity=1, basis=\"sto3g\", num_electrons=6, num_molecular_orbitals=7)\n",
        "\n",
        "  _, ops, exact_solution, vqe_ideal_solution = construct_ideal(problem, converter)\n",
        "\n",
        "  vqe_efficient_solution, vqe_efficient_diff = custom_vqe_sim(4, problem, ops, exact_solution)\n",
        "\n",
        "  expected_energies.append(exact_solution)\n",
        "  uccsd_energies.append(vqe_ideal_solution)\n",
        "  vqe_efficient_energies.append(vqe_efficient_solution)\n",
        "\n",
        "plt.plot(distances, expected_energies, label=\"Exact Energy\")\n",
        "plt.plot(distances, uccsd_energies, label=\"VQE UCCSD Noiseless\")\n",
        "plt.plot(distances, vqe_efficient_energies, label=\"VQE Efficient Noiseless\")\n",
        "plt.xlabel('Atomic distance (Angstrom)')\n",
        "plt.ylabel('Energy')\n",
        "plt.legend()\n",
        "plt.show()"
      ],
      "metadata": {
        "colab": {
          "base_uri": "https://localhost:8080/",
          "height": 972
        },
        "id": "WC12avq8ZuZ6",
        "outputId": "c9ac81e1-c8c5-4f7f-f541-23e3aedd2c10"
      },
      "execution_count": 26,
      "outputs": [
        {
          "output_type": "stream",
          "name": "stdout",
          "text": [
            "Relative error: -0.0494 %  =  0.007664794807226372 Ha\n"
          ]
        },
        {
          "output_type": "display_data",
          "data": {
            "text/plain": [
              "<Figure size 864x432 with 1 Axes>"
            ],
            "image/png": "[encoded data removed]"
          },
          "metadata": {}
        },
        {
          "output_type": "stream",
          "name": "stdout",
          "text": [
            "Optimal parameters: [-1.81342428e-01  1.48843064e+00  1.57463593e+00  1.60456838e+00\n",
            "  1.43435919e+00 -8.94635383e-03  1.04933543e+00  1.56954814e+00\n",
            " -1.57871713e+00  1.82806048e+00 -5.46620834e-03  7.28123788e-01\n",
            " -1.32624702e-01  1.67615493e+00  1.56922526e+00  1.55201944e+00\n",
            "  1.58099387e+00 -1.49657368e-01 -2.34236409e-02 -1.08237978e+00\n",
            " -1.20546928e-02  1.67003844e+00 -1.32139014e-01  3.79393688e-02\n",
            "  1.58499761e+00  1.68998700e+00  1.49803977e+00  1.43764736e-01\n",
            "  2.71517451e-01 -5.32172676e-01 -1.58340789e-03 -3.40652315e-01\n",
            "  1.11901369e-01  1.67770211e+00  7.95287128e-01  7.47891959e-04\n",
            " -3.08765288e-03  3.28013262e+00 -1.55180949e+00 -1.36262185e-02\n",
            "  3.69337185e-02 -1.96496439e+00 -2.62139791e-02  4.65261500e-01\n",
            "  1.65844910e-02  1.67320764e+00  1.56277065e+00 -5.42951558e-03\n",
            " -9.37094555e-03  1.44363122e+00 -7.29906593e-03  1.80142656e-03\n",
            "  1.59922851e+00  1.96408966e+00  1.57433758e+00  1.10588969e+00\n",
            "  1.58588385e+00 -1.04728104e-01  1.57855355e+00  1.53941513e+00]\n"
          ]
        },
        {
          "output_type": "display_data",
          "data": {
            "text/plain": [
              "<Figure size 432x288 with 1 Axes>"
            ],
            "image/png": "[encoded data removed]"
          },
          "metadata": {
            "needs_background": "light"
          }
        }
      ]
    }
  ],
  "metadata": {
    "colab": {
      "provenance": []
    },
    "kernelspec": {
      "display_name": "Python 3",
      "name": "python3"
    },
    "language_info": {
      "name": "python"
    }
  },
  "nbformat": 4,
  "nbformat_minor": 0
}